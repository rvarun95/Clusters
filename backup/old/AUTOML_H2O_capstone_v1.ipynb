{
 "cells": [
  {
   "cell_type": "markdown",
   "metadata": {
    "colab_type": "text",
    "id": "hAiL68WXTgIH"
   },
   "source": [
    "### Prerequisite: \n",
    "Python 2.7.x, 3.5.x, or 3.6.x\n",
    "\n",
    "### Install dependencies (prepending with `sudo` if needed):\n",
    "```\n",
    "pip install requests\n",
    "pip install tabulate\n",
    "pip install \"colorama>=0.3.8\"\n",
    "pip install future \n",
    "```\n",
    "\n",
    "### The following command removes the H2O module for Python.\n",
    "```\n",
    "pip uninstall h2o\n",
    "```\n",
    "\n",
    "### Next, use pip to install this version of the H2O Python module.\n",
    "```\n",
    "pip install http://h2o-release.s3.amazonaws.com/h2o/rel-yates/2/Python/h2o-3.24.0.3-py2.py3-none-any.whl\n",
    "```\n",
    "### or with Anaconda\n",
    "```\n",
    "conda install -c h2oai h2o\n",
    "```"
   ]
  },
  {
   "cell_type": "code",
   "execution_count": 1,
   "metadata": {
    "colab": {
     "base_uri": "https://localhost:8080/",
     "height": 210
    },
    "colab_type": "code",
    "executionInfo": {
     "elapsed": 11801,
     "status": "ok",
     "timestamp": 1563616805454,
     "user": {
      "displayName": "Mahendran Mohan",
      "photoUrl": "",
      "userId": "02519250507792255562"
     },
     "user_tz": -330
    },
    "id": "WHQ2k16sToKb",
    "outputId": "a5d23d3b-6212-4d95-bb38-8a93ae529f9a"
   },
   "outputs": [
    {
     "name": "stdout",
     "output_type": "stream",
     "text": [
      "Requirement already satisfied: requests in /conda/envs/rapids/lib/python3.6/site-packages (2.22.0)\n",
      "Requirement already satisfied: urllib3!=1.25.0,!=1.25.1,<1.26,>=1.21.1 in /conda/envs/rapids/lib/python3.6/site-packages (from requests) (1.24.3)\n",
      "Requirement already satisfied: chardet<3.1.0,>=3.0.2 in /conda/envs/rapids/lib/python3.6/site-packages (from requests) (3.0.4)\n",
      "Requirement already satisfied: certifi>=2017.4.17 in /conda/envs/rapids/lib/python3.6/site-packages (from requests) (2019.6.16)\n",
      "Requirement already satisfied: idna<2.9,>=2.5 in /conda/envs/rapids/lib/python3.6/site-packages (from requests) (2.8)\n",
      "Collecting tabulate\n",
      "\u001b[?25l  Downloading https://files.pythonhosted.org/packages/c2/fd/202954b3f0eb896c53b7b6f07390851b1fd2ca84aa95880d7ae4f434c4ac/tabulate-0.8.3.tar.gz (46kB)\n",
      "\u001b[K     |################################| 51kB 115kB/s ta 0:00:0101\n",
      "\u001b[?25hBuilding wheels for collected packages: tabulate\n",
      "  Building wheel for tabulate (setup.py) ... \u001b[?25ldone\n",
      "\u001b[?25h  Stored in directory: /root/.cache/pip/wheels/2b/67/89/414471314a2d15de625d184d8be6d38a03ae1e983dbda91e84\n",
      "Successfully built tabulate\n",
      "Installing collected packages: tabulate\n",
      "Successfully installed tabulate-0.8.3\n",
      "Collecting colorama>=0.3.8\n",
      "  Downloading https://files.pythonhosted.org/packages/4f/a6/728666f39bfff1719fc94c481890b2106837da9318031f71a8424b662e12/colorama-0.4.1-py2.py3-none-any.whl\n",
      "Installing collected packages: colorama\n",
      "Successfully installed colorama-0.4.1\n"
     ]
    }
   ],
   "source": [
    "!pip install requests\n",
    "!pip install tabulate\n",
    "!pip install \"colorama>=0.3.8\""
   ]
  },
  {
   "cell_type": "code",
   "execution_count": 2,
   "metadata": {
    "colab": {
     "base_uri": "https://localhost:8080/",
     "height": 51
    },
    "colab_type": "code",
    "executionInfo": {
     "elapsed": 7081,
     "status": "ok",
     "timestamp": 1563616821818,
     "user": {
      "displayName": "Mahendran Mohan",
      "photoUrl": "",
      "userId": "02519250507792255562"
     },
     "user_tz": -330
    },
    "id": "l3pTyp2BTsMM",
    "outputId": "aacf57c9-90d1-47ab-b13f-6e4260f2f0d7"
   },
   "outputs": [
    {
     "name": "stdout",
     "output_type": "stream",
     "text": [
      "Collecting future\n",
      "\u001b[?25l  Downloading https://files.pythonhosted.org/packages/90/52/e20466b85000a181e1e144fd8305caf2cf475e2f9674e797b222f8105f5f/future-0.17.1.tar.gz (829kB)\n",
      "\u001b[K     |################################| 829kB 198kB/s eta 0:00:01\n",
      "\u001b[?25hBuilding wheels for collected packages: future\n",
      "  Building wheel for future (setup.py) ... \u001b[?25ldone\n",
      "\u001b[?25h  Stored in directory: /root/.cache/pip/wheels/0c/61/d2/d6b7317325828fbb39ee6ad559dbe4664d0896da4721bf379e\n",
      "Successfully built future\n",
      "Installing collected packages: future\n",
      "Successfully installed future-0.17.1\n",
      "\u001b[33mWARNING: Skipping h2o as it is not installed.\u001b[0m\n"
     ]
    }
   ],
   "source": [
    "!pip install future \n",
    "!pip uninstall h2o\n"
   ]
  },
  {
   "cell_type": "code",
   "execution_count": 3,
   "metadata": {
    "colab": {
     "base_uri": "https://localhost:8080/",
     "height": 367
    },
    "colab_type": "code",
    "executionInfo": {
     "elapsed": 22912,
     "status": "ok",
     "timestamp": 1563616848327,
     "user": {
      "displayName": "Mahendran Mohan",
      "photoUrl": "",
      "userId": "02519250507792255562"
     },
     "user_tz": -330
    },
    "id": "9Qgmk5F7TsV9",
    "outputId": "395caf95-0b6a-4ff1-cef7-1d0314a93ce9"
   },
   "outputs": [
    {
     "name": "stdout",
     "output_type": "stream",
     "text": [
      "Looking in links: http://h2o-release.s3.amazonaws.com/h2o/latest_stable_Py.html\n",
      "Collecting h2o\n",
      "\u001b[33m  WARNING: The repository located at h2o-release.s3.amazonaws.com is not a trusted or secure host and is being ignored. If this repository is available via HTTPS we recommend you use HTTPS instead, otherwise you may silence this warning and allow it anyway with '--trusted-host h2o-release.s3.amazonaws.com'.\u001b[0m\n",
      "\u001b[?25l  Downloading https://files.pythonhosted.org/packages/d2/2b/a40acec7fa8c70b6782703978f1c3452ff87a34d706d1480a6513ea74770/h2o-3.26.0.4.tar.gz (123.6MB)\n",
      "\u001b[K     |################################| 123.6MB 453kB/s eta 0:00:01\n",
      "\u001b[?25hRequirement already satisfied: requests in /conda/envs/rapids/lib/python3.6/site-packages (from h2o) (2.22.0)\n",
      "Requirement already satisfied: tabulate in /conda/envs/rapids/lib/python3.6/site-packages (from h2o) (0.8.3)\n",
      "Requirement already satisfied: future in /conda/envs/rapids/lib/python3.6/site-packages (from h2o) (0.17.1)\n",
      "Requirement already satisfied: colorama>=0.3.8 in /conda/envs/rapids/lib/python3.6/site-packages (from h2o) (0.4.1)\n",
      "Requirement already satisfied: chardet<3.1.0,>=3.0.2 in /conda/envs/rapids/lib/python3.6/site-packages (from requests->h2o) (3.0.4)\n",
      "Requirement already satisfied: urllib3!=1.25.0,!=1.25.1,<1.26,>=1.21.1 in /conda/envs/rapids/lib/python3.6/site-packages (from requests->h2o) (1.24.3)\n",
      "Requirement already satisfied: certifi>=2017.4.17 in /conda/envs/rapids/lib/python3.6/site-packages (from requests->h2o) (2019.6.16)\n",
      "Requirement already satisfied: idna<2.9,>=2.5 in /conda/envs/rapids/lib/python3.6/site-packages (from requests->h2o) (2.8)\n",
      "Building wheels for collected packages: h2o\n",
      "  Building wheel for h2o (setup.py) ... \u001b[?25ldone\n",
      "\u001b[?25h  Stored in directory: /root/.cache/pip/wheels/b2/f3/a4/4eae0227dcbbf0383d1efe78982b09c11c54fe509ab5180c32\n",
      "Successfully built h2o\n",
      "Installing collected packages: h2o\n",
      "Successfully installed h2o-3.26.0.4\n"
     ]
    }
   ],
   "source": [
    "!pip install -f http://h2o-release.s3.amazonaws.com/h2o/latest_stable_Py.html h2o"
   ]
  },
  {
   "cell_type": "markdown",
   "metadata": {
    "colab_type": "text",
    "id": "04WtoSfgTgIJ"
   },
   "source": [
    "## Init H2O"
   ]
  },
  {
   "cell_type": "code",
   "execution_count": 4,
   "metadata": {
    "colab": {
     "base_uri": "https://localhost:8080/",
     "height": 828
    },
    "colab_type": "code",
    "executionInfo": {
     "elapsed": 6686,
     "status": "ok",
     "timestamp": 1563616861894,
     "user": {
      "displayName": "Mahendran Mohan",
      "photoUrl": "",
      "userId": "02519250507792255562"
     },
     "user_tz": -330
    },
    "id": "nX__Bgo8TgIL",
    "outputId": "4bc0f771-e928-46f8-acde-859c73b4b68f",
    "scrolled": true
   },
   "outputs": [
    {
     "name": "stdout",
     "output_type": "stream",
     "text": [
      "Checking whether there is an H2O instance running at http://localhost:54321 ..... not found.\n",
      "Attempting to start a local H2O server...\n"
     ]
    },
    {
     "ename": "H2OStartupError",
     "evalue": "Cannot find Java. Please install the latest JRE from\nhttp://www.oracle.com/technetwork/java/javase/downloads/index.html",
     "output_type": "error",
     "traceback": [
      "\u001b[0;31m---------------------------------------------------------------------------\u001b[0m",
      "\u001b[0;31mH2OConnectionError\u001b[0m                        Traceback (most recent call last)",
      "\u001b[0;32m/conda/envs/rapids/lib/python3.6/site-packages/h2o/h2o.py\u001b[0m in \u001b[0;36minit\u001b[0;34m(url, ip, port, name, https, insecure, username, password, cookies, proxy, start_h2o, nthreads, ice_root, log_dir, log_level, enable_assertions, max_mem_size, min_mem_size, strict_version_check, ignore_config, extra_classpath, jvm_custom_args, bind_to_localhost, **kwargs)\u001b[0m\n\u001b[1;32m    265\u001b[0m                                      _msgs=(\"Checking whether there is an H2O instance running at {url} \",\n\u001b[0;32m--> 266\u001b[0;31m                                             \"connected.\", \"not found.\"))\n\u001b[0m\u001b[1;32m    267\u001b[0m     \u001b[0;32mexcept\u001b[0m \u001b[0mH2OConnectionError\u001b[0m\u001b[0;34m:\u001b[0m\u001b[0;34m\u001b[0m\u001b[0;34m\u001b[0m\u001b[0m\n",
      "\u001b[0;32m/conda/envs/rapids/lib/python3.6/site-packages/h2o/backend/connection.py\u001b[0m in \u001b[0;36mopen\u001b[0;34m(server, url, ip, port, name, https, auth, verify_ssl_certificates, proxy, cookies, verbose, _msgs)\u001b[0m\n\u001b[1;32m    322\u001b[0m             \u001b[0mconn\u001b[0m\u001b[0;34m.\u001b[0m\u001b[0m_timeout\u001b[0m \u001b[0;34m=\u001b[0m \u001b[0;36m3.0\u001b[0m\u001b[0;34m\u001b[0m\u001b[0;34m\u001b[0m\u001b[0m\n\u001b[0;32m--> 323\u001b[0;31m             \u001b[0mconn\u001b[0m\u001b[0;34m.\u001b[0m\u001b[0m_cluster\u001b[0m \u001b[0;34m=\u001b[0m \u001b[0mconn\u001b[0m\u001b[0;34m.\u001b[0m\u001b[0m_test_connection\u001b[0m\u001b[0;34m(\u001b[0m\u001b[0mretries\u001b[0m\u001b[0;34m,\u001b[0m \u001b[0mmessages\u001b[0m\u001b[0;34m=\u001b[0m\u001b[0m_msgs\u001b[0m\u001b[0;34m)\u001b[0m\u001b[0;34m\u001b[0m\u001b[0;34m\u001b[0m\u001b[0m\n\u001b[0m\u001b[1;32m    324\u001b[0m             \u001b[0;31m# If a server is unable to respond within 1s, it should be considered a bug. However we disable this\u001b[0m\u001b[0;34m\u001b[0m\u001b[0;34m\u001b[0m\u001b[0;34m\u001b[0m\u001b[0m\n",
      "\u001b[0;32m/conda/envs/rapids/lib/python3.6/site-packages/h2o/backend/connection.py\u001b[0m in \u001b[0;36m_test_connection\u001b[0;34m(self, max_retries, messages)\u001b[0m\n\u001b[1;32m    602\u001b[0m             raise H2OConnectionError(\"Could not establish link to the H2O cloud %s after %d retries\\n%s\"\n\u001b[0;32m--> 603\u001b[0;31m                                      % (self._base_url, max_retries, \"\\n\".join(errors)))\n\u001b[0m\u001b[1;32m    604\u001b[0m \u001b[0;34m\u001b[0m\u001b[0m\n",
      "\u001b[0;31mH2OConnectionError\u001b[0m: Could not establish link to the H2O cloud http://localhost:54321 after 5 retries\n[26:44.94] H2OConnectionError: Unexpected HTTP error: HTTPConnectionPool(host='localhost', port=54321): Max retries exceeded with url: /3/Cloud (Caused by NewConnectionError('<urllib3.connection.HTTPConnection object at 0x7fc50ec57470>: Failed to establish a new connection: [Errno 111] Connection refused',))\n[26:45.14] H2OConnectionError: Unexpected HTTP error: HTTPConnectionPool(host='localhost', port=54321): Max retries exceeded with url: /3/Cloud (Caused by NewConnectionError('<urllib3.connection.HTTPConnection object at 0x7fc50ec57b38>: Failed to establish a new connection: [Errno 111] Connection refused',))\n[26:45.35] H2OConnectionError: Unexpected HTTP error: HTTPConnectionPool(host='localhost', port=54321): Max retries exceeded with url: /3/Cloud (Caused by NewConnectionError('<urllib3.connection.HTTPConnection object at 0x7fc50ec57b00>: Failed to establish a new connection: [Errno 111] Connection refused',))\n[26:45.55] H2OConnectionError: Unexpected HTTP error: HTTPConnectionPool(host='localhost', port=54321): Max retries exceeded with url: /3/Cloud (Caused by NewConnectionError('<urllib3.connection.HTTPConnection object at 0x7fc5243cd208>: Failed to establish a new connection: [Errno 111] Connection refused',))\n[26:45.75] H2OConnectionError: Unexpected HTTP error: HTTPConnectionPool(host='localhost', port=54321): Max retries exceeded with url: /3/Cloud (Caused by NewConnectionError('<urllib3.connection.HTTPConnection object at 0x7fc50ec6f240>: Failed to establish a new connection: [Errno 111] Connection refused',))",
      "\nDuring handling of the above exception, another exception occurred:\n",
      "\u001b[0;31mH2OStartupError\u001b[0m                           Traceback (most recent call last)",
      "\u001b[0;32m<ipython-input-4-78815a4dd3b8>\u001b[0m in \u001b[0;36m<module>\u001b[0;34m\u001b[0m\n\u001b[1;32m      1\u001b[0m \u001b[0;32mimport\u001b[0m \u001b[0mh2o\u001b[0m\u001b[0;34m\u001b[0m\u001b[0;34m\u001b[0m\u001b[0m\n\u001b[0;32m----> 2\u001b[0;31m \u001b[0mh2o\u001b[0m\u001b[0;34m.\u001b[0m\u001b[0minit\u001b[0m\u001b[0;34m(\u001b[0m\u001b[0;34m)\u001b[0m\u001b[0;34m\u001b[0m\u001b[0;34m\u001b[0m\u001b[0m\n\u001b[0m",
      "\u001b[0;32m/conda/envs/rapids/lib/python3.6/site-packages/h2o/h2o.py\u001b[0m in \u001b[0;36minit\u001b[0;34m(url, ip, port, name, https, insecure, username, password, cookies, proxy, start_h2o, nthreads, ice_root, log_dir, log_level, enable_assertions, max_mem_size, min_mem_size, strict_version_check, ignore_config, extra_classpath, jvm_custom_args, bind_to_localhost, **kwargs)\u001b[0m\n\u001b[1;32m    276\u001b[0m                                   \u001b[0mport\u001b[0m\u001b[0;34m=\u001b[0m\u001b[0mport\u001b[0m\u001b[0;34m,\u001b[0m \u001b[0mname\u001b[0m\u001b[0;34m=\u001b[0m\u001b[0mname\u001b[0m\u001b[0;34m,\u001b[0m\u001b[0;34m\u001b[0m\u001b[0;34m\u001b[0m\u001b[0m\n\u001b[1;32m    277\u001b[0m                                   \u001b[0mextra_classpath\u001b[0m\u001b[0;34m=\u001b[0m\u001b[0mextra_classpath\u001b[0m\u001b[0;34m,\u001b[0m \u001b[0mjvm_custom_args\u001b[0m\u001b[0;34m=\u001b[0m\u001b[0mjvm_custom_args\u001b[0m\u001b[0;34m,\u001b[0m\u001b[0;34m\u001b[0m\u001b[0;34m\u001b[0m\u001b[0m\n\u001b[0;32m--> 278\u001b[0;31m                                   bind_to_localhost=bind_to_localhost)\n\u001b[0m\u001b[1;32m    279\u001b[0m         h2oconn = H2OConnection.open(server=hs, https=https, verify_ssl_certificates=not insecure,\n\u001b[1;32m    280\u001b[0m                                      auth=auth, proxy=proxy,cookies=cookies, verbose=True)\n",
      "\u001b[0;32m/conda/envs/rapids/lib/python3.6/site-packages/h2o/backend/server.py\u001b[0m in \u001b[0;36mstart\u001b[0;34m(jar_path, nthreads, enable_assertions, max_mem_size, min_mem_size, ice_root, log_dir, log_level, port, name, extra_classpath, verbose, jvm_custom_args, bind_to_localhost)\u001b[0m\n\u001b[1;32m    136\u001b[0m         hs._launch_server(port=port, baseport=baseport, nthreads=int(nthreads), ea=enable_assertions,\n\u001b[1;32m    137\u001b[0m                           \u001b[0mmmax\u001b[0m\u001b[0;34m=\u001b[0m\u001b[0mmax_mem_size\u001b[0m\u001b[0;34m,\u001b[0m \u001b[0mmmin\u001b[0m\u001b[0;34m=\u001b[0m\u001b[0mmin_mem_size\u001b[0m\u001b[0;34m,\u001b[0m \u001b[0mjvm_custom_args\u001b[0m\u001b[0;34m=\u001b[0m\u001b[0mjvm_custom_args\u001b[0m\u001b[0;34m,\u001b[0m\u001b[0;34m\u001b[0m\u001b[0;34m\u001b[0m\u001b[0m\n\u001b[0;32m--> 138\u001b[0;31m                           bind_to_localhost=bind_to_localhost, log_dir=log_dir, log_level=log_level)\n\u001b[0m\u001b[1;32m    139\u001b[0m         \u001b[0;32mif\u001b[0m \u001b[0mverbose\u001b[0m\u001b[0;34m:\u001b[0m \u001b[0mprint\u001b[0m\u001b[0;34m(\u001b[0m\u001b[0;34m\"  Server is running at %s://%s:%d\"\u001b[0m \u001b[0;34m%\u001b[0m \u001b[0;34m(\u001b[0m\u001b[0mhs\u001b[0m\u001b[0;34m.\u001b[0m\u001b[0mscheme\u001b[0m\u001b[0;34m,\u001b[0m \u001b[0mhs\u001b[0m\u001b[0;34m.\u001b[0m\u001b[0mip\u001b[0m\u001b[0;34m,\u001b[0m \u001b[0mhs\u001b[0m\u001b[0;34m.\u001b[0m\u001b[0mport\u001b[0m\u001b[0;34m)\u001b[0m\u001b[0;34m)\u001b[0m\u001b[0;34m\u001b[0m\u001b[0;34m\u001b[0m\u001b[0m\n\u001b[1;32m    140\u001b[0m         \u001b[0matexit\u001b[0m\u001b[0;34m.\u001b[0m\u001b[0mregister\u001b[0m\u001b[0;34m(\u001b[0m\u001b[0;32mlambda\u001b[0m\u001b[0;34m:\u001b[0m \u001b[0mhs\u001b[0m\u001b[0;34m.\u001b[0m\u001b[0mshutdown\u001b[0m\u001b[0;34m(\u001b[0m\u001b[0;34m)\u001b[0m\u001b[0;34m)\u001b[0m\u001b[0;34m\u001b[0m\u001b[0;34m\u001b[0m\u001b[0m\n",
      "\u001b[0;32m/conda/envs/rapids/lib/python3.6/site-packages/h2o/backend/server.py\u001b[0m in \u001b[0;36m_launch_server\u001b[0;34m(self, port, baseport, mmax, mmin, ea, nthreads, jvm_custom_args, bind_to_localhost, log_dir, log_level)\u001b[0m\n\u001b[1;32m    269\u001b[0m \u001b[0;34m\u001b[0m\u001b[0m\n\u001b[1;32m    270\u001b[0m         \u001b[0;31m# Find Java and check version. (Note that subprocess.check_output returns the output as a bytes object)\u001b[0m\u001b[0;34m\u001b[0m\u001b[0;34m\u001b[0m\u001b[0;34m\u001b[0m\u001b[0m\n\u001b[0;32m--> 271\u001b[0;31m         \u001b[0mjava\u001b[0m \u001b[0;34m=\u001b[0m \u001b[0mself\u001b[0m\u001b[0;34m.\u001b[0m\u001b[0m_find_java\u001b[0m\u001b[0;34m(\u001b[0m\u001b[0;34m)\u001b[0m\u001b[0;34m\u001b[0m\u001b[0;34m\u001b[0m\u001b[0m\n\u001b[0m\u001b[1;32m    272\u001b[0m         \u001b[0mself\u001b[0m\u001b[0;34m.\u001b[0m\u001b[0m_check_java\u001b[0m\u001b[0;34m(\u001b[0m\u001b[0mjava\u001b[0m\u001b[0;34m,\u001b[0m \u001b[0mself\u001b[0m\u001b[0;34m.\u001b[0m\u001b[0m_verbose\u001b[0m\u001b[0;34m)\u001b[0m\u001b[0;34m\u001b[0m\u001b[0;34m\u001b[0m\u001b[0m\n\u001b[1;32m    273\u001b[0m \u001b[0;34m\u001b[0m\u001b[0m\n",
      "\u001b[0;32m/conda/envs/rapids/lib/python3.6/site-packages/h2o/backend/server.py\u001b[0m in \u001b[0;36m_find_java\u001b[0;34m()\u001b[0m\n\u001b[1;32m    408\u001b[0m \u001b[0;34m\u001b[0m\u001b[0m\n\u001b[1;32m    409\u001b[0m         \u001b[0;31m# not found...\u001b[0m\u001b[0;34m\u001b[0m\u001b[0;34m\u001b[0m\u001b[0;34m\u001b[0m\u001b[0m\n\u001b[0;32m--> 410\u001b[0;31m         raise H2OStartupError(\"Cannot find Java. Please install the latest JRE from\\n\"\n\u001b[0m\u001b[1;32m    411\u001b[0m                               \"http://www.oracle.com/technetwork/java/javase/downloads/index.html\")\n\u001b[1;32m    412\u001b[0m \u001b[0;34m\u001b[0m\u001b[0m\n",
      "\u001b[0;31mH2OStartupError\u001b[0m: Cannot find Java. Please install the latest JRE from\nhttp://www.oracle.com/technetwork/java/javase/downloads/index.html"
     ]
    }
   ],
   "source": [
    "import h2o\n",
    "h2o.init()"
   ]
  },
  {
   "cell_type": "markdown",
   "metadata": {
    "colab_type": "text",
    "id": "x5HxMHn_TgIT"
   },
   "source": [
    "## Classification with Chicago Crime Dataset"
   ]
  },
  {
   "cell_type": "code",
   "execution_count": 5,
   "metadata": {
    "colab": {
     "base_uri": "https://localhost:8080/",
     "height": 51
    },
    "colab_type": "code",
    "executionInfo": {
     "elapsed": 5864,
     "status": "ok",
     "timestamp": 1563616904851,
     "user": {
      "displayName": "Mahendran Mohan",
      "photoUrl": "",
      "userId": "02519250507792255562"
     },
     "user_tz": -330
    },
    "id": "Q7jLRIz4TgIV",
    "outputId": "b952a601-ae09-455c-a0ee-a1d736561f9a"
   },
   "outputs": [
    {
     "name": "stdout",
     "output_type": "stream",
     "text": [
      "Parse progress: |█████████████████████████████████████████████████████████| 100%\n"
     ]
    },
    {
     "data": {
      "text/plain": [
       "[9999, 22]"
      ]
     },
     "execution_count": 5,
     "metadata": {
      "tags": []
     },
     "output_type": "execute_result"
    }
   ],
   "source": [
    "chicago_crime = h2o.get_frame(\"chicago.crime.hex\")\n",
    "if chicago_crime is None:\n",
    "    chicago_crime = h2o.import_file(\n",
    "        \"https://s3.amazonaws.com/h2o-public-test-data/smalldata/chicago/chicagoCrimes10k.csv.zip\",\n",
    "        destination_frame = \"chicago.crime.hex\")\n",
    "chicago_crime.dim"
   ]
  },
  {
   "cell_type": "code",
   "execution_count": 6,
   "metadata": {
    "colab": {
     "base_uri": "https://localhost:8080/",
     "height": 399
    },
    "colab_type": "code",
    "executionInfo": {
     "elapsed": 865,
     "status": "ok",
     "timestamp": 1563616906836,
     "user": {
      "displayName": "Mahendran Mohan",
      "photoUrl": "",
      "userId": "02519250507792255562"
     },
     "user_tz": -330
    },
    "id": "asJQkDPpTgIa",
    "outputId": "65732848-aad6-4da8-9dfc-7d15b72e98c1"
   },
   "outputs": [
    {
     "data": {
      "text/plain": [
       "['ID',\n",
       " 'Case Number',\n",
       " 'Date',\n",
       " 'Block',\n",
       " 'IUCR',\n",
       " 'Primary Type',\n",
       " 'Description',\n",
       " 'Location Description',\n",
       " 'Arrest',\n",
       " 'Domestic',\n",
       " 'Beat',\n",
       " 'District',\n",
       " 'Ward',\n",
       " 'Community Area',\n",
       " 'FBI Code',\n",
       " 'X Coordinate',\n",
       " 'Y Coordinate',\n",
       " 'Year',\n",
       " 'Updated On',\n",
       " 'Latitude',\n",
       " 'Longitude',\n",
       " 'Location']"
      ]
     },
     "execution_count": 6,
     "metadata": {
      "tags": []
     },
     "output_type": "execute_result"
    }
   ],
   "source": [
    "chicago_crime.col_names"
   ]
  },
  {
   "cell_type": "code",
   "execution_count": 0,
   "metadata": {
    "colab": {},
    "colab_type": "code",
    "id": "MGt2_1iTTgIe"
   },
   "outputs": [],
   "source": [
    "y = 'Arrest'\n",
    "x = chicago_crime.col_names\n",
    "x.remove(y)\n",
    "x = [el for el in x if el not in ['Case Number','Block','Description', 'Location Description','Date','Updated On']]"
   ]
  },
  {
   "cell_type": "markdown",
   "metadata": {
    "colab_type": "text",
    "id": "tTpCLIZlTgIh"
   },
   "source": [
    "### Logistic Regression Model"
   ]
  },
  {
   "cell_type": "code",
   "execution_count": 8,
   "metadata": {
    "colab": {
     "base_uri": "https://localhost:8080/",
     "height": 34
    },
    "colab_type": "code",
    "executionInfo": {
     "elapsed": 2825,
     "status": "ok",
     "timestamp": 1563616911847,
     "user": {
      "displayName": "Mahendran Mohan",
      "photoUrl": "",
      "userId": "02519250507792255562"
     },
     "user_tz": -330
    },
    "id": "JeO97veMTgIi",
    "outputId": "0635fa3f-d573-43a0-ffab-299ce4b4760c",
    "scrolled": false
   },
   "outputs": [
    {
     "name": "stdout",
     "output_type": "stream",
     "text": [
      "glm Model Build progress: |███████████████████████████████████████████████| 100%\n"
     ]
    }
   ],
   "source": [
    "# Train GLM Classifier\n",
    "from h2o.estimators.glm import H2OGeneralizedLinearEstimator\n",
    "\n",
    "glm_crime_model = H2OGeneralizedLinearEstimator(family = \"binomial\", nfolds = 3, seed = 75205)\n",
    "glm_crime_model.train(x, y, training_frame = chicago_crime, model_id = \"glm_crime_py_model\")"
   ]
  },
  {
   "cell_type": "code",
   "execution_count": 9,
   "metadata": {
    "colab": {
     "base_uri": "https://localhost:8080/",
     "height": 632
    },
    "colab_type": "code",
    "executionInfo": {
     "elapsed": 1844,
     "status": "ok",
     "timestamp": 1563616914863,
     "user": {
      "displayName": "Mahendran Mohan",
      "photoUrl": "",
      "userId": "02519250507792255562"
     },
     "user_tz": -330
    },
    "id": "HjukhK-dTgIl",
    "outputId": "22e8a623-83c1-4e64-b771-1df2ae1bc91b"
   },
   "outputs": [
    {
     "data": {
      "image/png": "[encoded data removed]",
      "text/plain": [
       "<Figure size 1008x720 with 1 Axes>"
      ]
     },
     "metadata": {
      "tags": []
     },
     "output_type": "display_data"
    }
   ],
   "source": [
    "glm_crime_model.varimp_plot(15)"
   ]
  },
  {
   "cell_type": "code",
   "execution_count": 10,
   "metadata": {
    "colab": {
     "base_uri": "https://localhost:8080/",
     "height": 51
    },
    "colab_type": "code",
    "executionInfo": {
     "elapsed": 616,
     "status": "ok",
     "timestamp": 1563616916234,
     "user": {
      "displayName": "Mahendran Mohan",
      "photoUrl": "",
      "userId": "02519250507792255562"
     },
     "user_tz": -330
    },
    "id": "rdb73_u6TgIo",
    "outputId": "8d9e835e-b10d-44df-cfbb-5f95084a70ff",
    "scrolled": true
   },
   "outputs": [
    {
     "name": "stdout",
     "output_type": "stream",
     "text": [
      "Validation AUC (3-fold CV): 0.7982668762504898\n",
      "Accuracy (3-fold CV): [[0.5917761503957594, 0.8191819181918192]]\n"
     ]
    }
   ],
   "source": [
    "print(\"Validation AUC (3-fold CV): \" + str(glm_crime_model.auc(xval = True)))\n",
    "print(\"Accuracy (3-fold CV): \" + str(glm_crime_model.accuracy(xval = True)))"
   ]
  },
  {
   "cell_type": "code",
   "execution_count": 11,
   "metadata": {
    "colab": {
     "base_uri": "https://localhost:8080/",
     "height": 295
    },
    "colab_type": "code",
    "executionInfo": {
     "elapsed": 1281,
     "status": "ok",
     "timestamp": 1563616918468,
     "user": {
      "displayName": "Mahendran Mohan",
      "photoUrl": "",
      "userId": "02519250507792255562"
     },
     "user_tz": -330
    },
    "id": "HnOO-K4ITgIr",
    "outputId": "0ba56e98-2daa-4858-a135-6b81e4a93cfd"
   },
   "outputs": [
    {
     "data": {
      "image/png": "[encoded data removed]",
      "text/plain": [
       "<Figure size 432x288 with 1 Axes>"
      ]
     },
     "metadata": {
      "tags": []
     },
     "output_type": "display_data"
    }
   ],
   "source": [
    "glm_crime_model.model_performance(xval=True).plot()"
   ]
  },
  {
   "cell_type": "code",
   "execution_count": 12,
   "metadata": {
    "colab": {
     "base_uri": "https://localhost:8080/",
     "height": 118
    },
    "colab_type": "code",
    "executionInfo": {
     "elapsed": 779,
     "status": "ok",
     "timestamp": 1563616919944,
     "user": {
      "displayName": "Mahendran Mohan",
      "photoUrl": "",
      "userId": "02519250507792255562"
     },
     "user_tz": -330
    },
    "id": "SqxQ8--FTgIv",
    "outputId": "d4c4cf63-13f9-4f05-cc05-bb6877a913b3",
    "scrolled": true
   },
   "outputs": [
    {
     "name": "stdout",
     "output_type": "stream",
     "text": [
      "Confusion Matrix (Act/Pred) for max f1 @ threshold = 0.28705932089852026: \n"
     ]
    },
    {
     "data": {
      "text/html": [
       "<div style=\"overflow:auto\"><table style=\"width:50%\"><tr><td><b></b></td>\n",
       "<td><b>false</b></td>\n",
       "<td><b>true</b></td>\n",
       "<td><b>Error</b></td>\n",
       "<td><b>Rate</b></td></tr>\n",
       "<tr><td>false</td>\n",
       "<td>6272.0</td>\n",
       "<td>799.0</td>\n",
       "<td>0.113</td>\n",
       "<td> (799.0/7071.0)</td></tr>\n",
       "<tr><td>true</td>\n",
       "<td>1064.0</td>\n",
       "<td>1864.0</td>\n",
       "<td>0.3634</td>\n",
       "<td> (1064.0/2928.0)</td></tr>\n",
       "<tr><td>Total</td>\n",
       "<td>7336.0</td>\n",
       "<td>2663.0</td>\n",
       "<td>0.1863</td>\n",
       "<td> (1863.0/9999.0)</td></tr></table></div>"
      ],
      "text/plain": [
       "       false    true    Error    Rate\n",
       "-----  -------  ------  -------  ---------------\n",
       "false  6272     799     0.113    (799.0/7071.0)\n",
       "true   1064     1864    0.3634   (1064.0/2928.0)\n",
       "Total  7336     2663    0.1863   (1863.0/9999.0)"
      ]
     },
     "metadata": {
      "tags": []
     },
     "output_type": "display_data"
    },
    {
     "data": {
      "text/plain": []
     },
     "execution_count": 12,
     "metadata": {
      "tags": []
     },
     "output_type": "execute_result"
    }
   ],
   "source": [
    "glm_crime_model.confusion_matrix(xval = True)"
   ]
  },
  {
   "cell_type": "markdown",
   "metadata": {
    "colab_type": "text",
    "id": "qjK-X1CQTgIz"
   },
   "source": [
    "### Random Forest Model"
   ]
  },
  {
   "cell_type": "code",
   "execution_count": 13,
   "metadata": {
    "colab": {
     "base_uri": "https://localhost:8080/",
     "height": 34
    },
    "colab_type": "code",
    "executionInfo": {
     "elapsed": 25871,
     "status": "ok",
     "timestamp": 1563616952027,
     "user": {
      "displayName": "Mahendran Mohan",
      "photoUrl": "",
      "userId": "02519250507792255562"
     },
     "user_tz": -330
    },
    "id": "zs1gu6V7TgI0",
    "outputId": "f92b37b5-8266-496d-c8b2-1fa88ce8ca26"
   },
   "outputs": [
    {
     "name": "stdout",
     "output_type": "stream",
     "text": [
      "drf Model Build progress: |███████████████████████████████████████████████| 100%\n"
     ]
    }
   ],
   "source": [
    "from h2o.estimators.random_forest import H2ORandomForestEstimator\n",
    "\n",
    "rf_crime_model = H2ORandomForestEstimator(nfolds = 3, seed = 75205)\n",
    "rf_crime_model.train(x, y, training_frame = chicago_crime, model_id = \"rf_crime_py_model\")"
   ]
  },
  {
   "cell_type": "code",
   "execution_count": 14,
   "metadata": {
    "colab": {
     "base_uri": "https://localhost:8080/",
     "height": 296
    },
    "colab_type": "code",
    "executionInfo": {
     "elapsed": 24753,
     "status": "ok",
     "timestamp": 1563616952572,
     "user": {
      "displayName": "Mahendran Mohan",
      "photoUrl": "",
      "userId": "02519250507792255562"
     },
     "user_tz": -330
    },
    "id": "dfXndAtOTgI3",
    "outputId": "b41f1119-b34b-426a-b994-4e24d0d4699e"
   },
   "outputs": [
    {
     "data": {
      "image/png": "[encoded data removed]",
      "text/plain": [
       "<Figure size 432x288 with 1 Axes>"
      ]
     },
     "metadata": {
      "tags": []
     },
     "output_type": "display_data"
    }
   ],
   "source": [
    "rf_crime_model.plot()"
   ]
  },
  {
   "cell_type": "code",
   "execution_count": 15,
   "metadata": {
    "colab": {
     "base_uri": "https://localhost:8080/",
     "height": 632
    },
    "colab_type": "code",
    "executionInfo": {
     "elapsed": 1191,
     "status": "ok",
     "timestamp": 1563616959255,
     "user": {
      "displayName": "Mahendran Mohan",
      "photoUrl": "",
      "userId": "02519250507792255562"
     },
     "user_tz": -330
    },
    "id": "h4PmhQZTTgI8",
    "outputId": "0be37936-4cf4-41f1-b99e-b8c22194095c"
   },
   "outputs": [
    {
     "data": {
      "image/png": "[encoded data removed]",
      "text/plain": [
       "<Figure size 1008x720 with 1 Axes>"
      ]
     },
     "metadata": {
      "tags": []
     },
     "output_type": "display_data"
    }
   ],
   "source": [
    "rf_crime_model.varimp_plot(15)"
   ]
  },
  {
   "cell_type": "markdown",
   "metadata": {
    "colab_type": "text",
    "id": "EHOdZU2wTgJA"
   },
   "source": [
    "### Random Forest Performance"
   ]
  },
  {
   "cell_type": "code",
   "execution_count": 16,
   "metadata": {
    "colab": {
     "base_uri": "https://localhost:8080/",
     "height": 51
    },
    "colab_type": "code",
    "executionInfo": {
     "elapsed": 868,
     "status": "ok",
     "timestamp": 1563616961736,
     "user": {
      "displayName": "Mahendran Mohan",
      "photoUrl": "",
      "userId": "02519250507792255562"
     },
     "user_tz": -330
    },
    "id": "qmRby39TTgJB",
    "outputId": "df6dbce4-e12d-4068-b76b-c9ceae2117f9",
    "scrolled": false
   },
   "outputs": [
    {
     "name": "stdout",
     "output_type": "stream",
     "text": [
      "Validation AUC (3-fold CV): 0.9056166648505827\n",
      "Accuracy (3-fold CV): [[0.4667221318682035, 0.8815881588158816]]\n"
     ]
    }
   ],
   "source": [
    "print(\"Validation AUC (3-fold CV): \" + str(rf_crime_model.auc(xval = True)))\n",
    "print(\"Accuracy (3-fold CV): \" + str(rf_crime_model.accuracy(xval = True)))"
   ]
  },
  {
   "cell_type": "code",
   "execution_count": 17,
   "metadata": {
    "colab": {
     "base_uri": "https://localhost:8080/",
     "height": 295
    },
    "colab_type": "code",
    "executionInfo": {
     "elapsed": 1241,
     "status": "ok",
     "timestamp": 1563616963470,
     "user": {
      "displayName": "Mahendran Mohan",
      "photoUrl": "",
      "userId": "02519250507792255562"
     },
     "user_tz": -330
    },
    "id": "3EarG8sOTgJG",
    "outputId": "a6baddb0-b1b9-42dd-ae36-69cda50094fd"
   },
   "outputs": [
    {
     "data": {
      "image/png": "[encoded data removed]",
      "text/plain": [
       "<Figure size 432x288 with 1 Axes>"
      ]
     },
     "metadata": {
      "tags": []
     },
     "output_type": "display_data"
    }
   ],
   "source": [
    "rf_crime_model.model_performance(xval=True).plot()"
   ]
  },
  {
   "cell_type": "code",
   "execution_count": 18,
   "metadata": {
    "colab": {
     "base_uri": "https://localhost:8080/",
     "height": 118
    },
    "colab_type": "code",
    "executionInfo": {
     "elapsed": 569,
     "status": "ok",
     "timestamp": 1563616964697,
     "user": {
      "displayName": "Mahendran Mohan",
      "photoUrl": "",
      "userId": "02519250507792255562"
     },
     "user_tz": -330
    },
    "id": "4n9K8OviTgJK",
    "outputId": "8989e30e-0a97-4022-9f2f-418fe703371a"
   },
   "outputs": [
    {
     "name": "stdout",
     "output_type": "stream",
     "text": [
      "Confusion Matrix (Act/Pred) for max f1 @ threshold = 0.4599451684100287: \n"
     ]
    },
    {
     "data": {
      "text/html": [
       "<div style=\"overflow:auto\"><table style=\"width:50%\"><tr><td><b></b></td>\n",
       "<td><b>false</b></td>\n",
       "<td><b>true</b></td>\n",
       "<td><b>Error</b></td>\n",
       "<td><b>Rate</b></td></tr>\n",
       "<tr><td>false</td>\n",
       "<td>6800.0</td>\n",
       "<td>271.0</td>\n",
       "<td>0.0383</td>\n",
       "<td> (271.0/7071.0)</td></tr>\n",
       "<tr><td>true</td>\n",
       "<td>915.0</td>\n",
       "<td>2013.0</td>\n",
       "<td>0.3125</td>\n",
       "<td> (915.0/2928.0)</td></tr>\n",
       "<tr><td>Total</td>\n",
       "<td>7715.0</td>\n",
       "<td>2284.0</td>\n",
       "<td>0.1186</td>\n",
       "<td> (1186.0/9999.0)</td></tr></table></div>"
      ],
      "text/plain": [
       "       false    true    Error    Rate\n",
       "-----  -------  ------  -------  ---------------\n",
       "false  6800     271     0.0383   (271.0/7071.0)\n",
       "true   915      2013    0.3125   (915.0/2928.0)\n",
       "Total  7715     2284    0.1186   (1186.0/9999.0)"
      ]
     },
     "metadata": {
      "tags": []
     },
     "output_type": "display_data"
    },
    {
     "data": {
      "text/plain": []
     },
     "execution_count": 18,
     "metadata": {
      "tags": []
     },
     "output_type": "execute_result"
    }
   ],
   "source": [
    "rf_crime_model.confusion_matrix(xval = True)"
   ]
  },
  {
   "cell_type": "markdown",
   "metadata": {
    "colab_type": "text",
    "id": "uewdR1gYTgJO"
   },
   "source": [
    "### Train Classifiers Using H2O's AutoML"
   ]
  },
  {
   "cell_type": "code",
   "execution_count": 0,
   "metadata": {
    "colab": {},
    "colab_type": "code",
    "id": "6eHAEozQTgJQ"
   },
   "outputs": [],
   "source": [
    "(chicago_crime_train, chicago_crime_test) = chicago_crime.split_frame(ratios = [.8], seed = 75205,\n",
    "                                  destination_frames = [\"chicago.crime.train\", \"chicago.crime.test\"])"
   ]
  },
  {
   "cell_type": "code",
   "execution_count": 0,
   "metadata": {
    "colab": {},
    "colab_type": "code",
    "id": "PrU-iPSlTgJU"
   },
   "outputs": [],
   "source": [
    "# optional - both already exist\n",
    "chicago_crime_train = h2o.get_frame(\"chicago.crime.train\")\n",
    "chicago_crime_test = h2o.get_frame(\"chicago.crime.test\")"
   ]
  },
  {
   "cell_type": "code",
   "execution_count": 21,
   "metadata": {
    "colab": {
     "base_uri": "https://localhost:8080/",
     "height": 34
    },
    "colab_type": "code",
    "executionInfo": {
     "elapsed": 63756,
     "status": "ok",
     "timestamp": 1563617033115,
     "user": {
      "displayName": "Mahendran Mohan",
      "photoUrl": "",
      "userId": "02519250507792255562"
     },
     "user_tz": -330
    },
    "id": "YnJWlpFLTgJX",
    "outputId": "8955b17e-345a-4ba3-b6f8-eafb15bf4dfa"
   },
   "outputs": [
    {
     "name": "stdout",
     "output_type": "stream",
     "text": [
      "AutoML progress: |████████████████████████████████████████████████████████| 100%\n"
     ]
    }
   ],
   "source": [
    "from h2o.automl import H2OAutoML\n",
    "\n",
    "aml_crime_model = H2OAutoML(max_runtime_secs = 60, nfolds = 3, seed = 75205,\n",
    "                            include_algos = ['GLM','DRF','GBM'], \n",
    "                            project_name = \"automl_crime_py_model\",\n",
    "                            keep_cross_validation_predictions = False,\n",
    "                            keep_cross_validation_models = False,\n",
    "                            keep_cross_validation_fold_assignment = False)\n",
    "aml_crime_model.train(x = x, y = y, \n",
    "                      training_frame = chicago_crime_train, \n",
    "                      leaderboard_frame = chicago_crime_test)"
   ]
  },
  {
   "cell_type": "code",
   "execution_count": 0,
   "metadata": {
    "colab": {
     "base_uri": "https://localhost:8080/",
     "height": 215
    },
    "colab_type": "code",
    "executionInfo": {
     "elapsed": 910,
     "status": "ok",
     "timestamp": 1563567589418,
     "user": {
      "displayName": "Mahendran Mohan",
      "photoUrl": "",
      "userId": "02519250507792255562"
     },
     "user_tz": -330
    },
    "id": "vNpwYMeeTgJa",
    "outputId": "ea5d7062-ee69-407c-ecb4-3ddfdace10c4"
   },
   "outputs": [
    {
     "data": {
      "text/html": [
       "<table>\n",
       "<thead>\n",
       "<tr><th>model_id                                 </th><th style=\"text-align: right;\">     auc</th><th style=\"text-align: right;\">  logloss</th><th style=\"text-align: right;\">  mean_per_class_error</th><th style=\"text-align: right;\">    rmse</th><th style=\"text-align: right;\">      mse</th></tr>\n",
       "</thead>\n",
       "<tbody>\n",
       "<tr><td>GBM_3_AutoML_20190719_201840             </td><td style=\"text-align: right;\">0.929651</td><td style=\"text-align: right;\"> 0.283113</td><td style=\"text-align: right;\">              0.169622</td><td style=\"text-align: right;\">0.294806</td><td style=\"text-align: right;\">0.0869108</td></tr>\n",
       "<tr><td>GBM_4_AutoML_20190719_201840             </td><td style=\"text-align: right;\">0.927428</td><td style=\"text-align: right;\"> 0.28588 </td><td style=\"text-align: right;\">              0.166618</td><td style=\"text-align: right;\">0.296091</td><td style=\"text-align: right;\">0.0876697</td></tr>\n",
       "<tr><td>GBM_2_AutoML_20190719_201840             </td><td style=\"text-align: right;\">0.927372</td><td style=\"text-align: right;\"> 0.284594</td><td style=\"text-align: right;\">              0.164365</td><td style=\"text-align: right;\">0.295266</td><td style=\"text-align: right;\">0.087182 </td></tr>\n",
       "<tr><td>GBM_1_AutoML_20190719_201840             </td><td style=\"text-align: right;\">0.925828</td><td style=\"text-align: right;\"> 0.286396</td><td style=\"text-align: right;\">              0.170148</td><td style=\"text-align: right;\">0.296949</td><td style=\"text-align: right;\">0.0881785</td></tr>\n",
       "<tr><td>GBM_5_AutoML_20190719_201840             </td><td style=\"text-align: right;\">0.924857</td><td style=\"text-align: right;\"> 0.285586</td><td style=\"text-align: right;\">              0.155696</td><td style=\"text-align: right;\">0.295926</td><td style=\"text-align: right;\">0.0875721</td></tr>\n",
       "<tr><td>DRF_1_AutoML_20190719_201840             </td><td style=\"text-align: right;\">0.911237</td><td style=\"text-align: right;\"> 0.335902</td><td style=\"text-align: right;\">              0.184625</td><td style=\"text-align: right;\">0.307097</td><td style=\"text-align: right;\">0.0943085</td></tr>\n",
       "<tr><td>XRT_1_AutoML_20190719_201840             </td><td style=\"text-align: right;\">0.900016</td><td style=\"text-align: right;\"> 0.502234</td><td style=\"text-align: right;\">              0.174882</td><td style=\"text-align: right;\">0.31037 </td><td style=\"text-align: right;\">0.0963298</td></tr>\n",
       "<tr><td>GLM_grid_1_AutoML_20190719_201840_model_1</td><td style=\"text-align: right;\">0.850402</td><td style=\"text-align: right;\"> 0.380523</td><td style=\"text-align: right;\">              0.22881 </td><td style=\"text-align: right;\">0.341582</td><td style=\"text-align: right;\">0.116678 </td></tr>\n",
       "</tbody>\n",
       "</table>"
      ]
     },
     "metadata": {
      "tags": []
     },
     "output_type": "display_data"
    },
    {
     "name": "stdout",
     "output_type": "stream",
     "text": [
      "\n"
     ]
    }
   ],
   "source": [
    "print(aml_crime_model.leaderboard)"
   ]
  },
  {
   "cell_type": "markdown",
   "metadata": {
    "colab_type": "text",
    "id": "DCZSytdGTgJd"
   },
   "source": [
    "### Best Model Performance"
   ]
  },
  {
   "cell_type": "code",
   "execution_count": 22,
   "metadata": {
    "colab": {
     "base_uri": "https://localhost:8080/",
     "height": 295
    },
    "colab_type": "code",
    "executionInfo": {
     "elapsed": 1264,
     "status": "ok",
     "timestamp": 1563617060416,
     "user": {
      "displayName": "Mahendran Mohan",
      "photoUrl": "",
      "userId": "02519250507792255562"
     },
     "user_tz": -330
    },
    "id": "An3A4uwwTgJe",
    "outputId": "1cb56c35-f5dc-495f-8d0a-f5888fa713f7"
   },
   "outputs": [
    {
     "data": {
      "image/png": "[encoded data removed]",
      "text/plain": [
       "<Figure size 432x288 with 1 Axes>"
      ]
     },
     "metadata": {
      "tags": []
     },
     "output_type": "display_data"
    }
   ],
   "source": [
    "best_model = aml_crime_model.leader\n",
    "best_model.model_performance(xval=True).plot()"
   ]
  },
  {
   "cell_type": "markdown",
   "metadata": {
    "colab_type": "text",
    "id": "58k8p80-TgJh"
   },
   "source": [
    "## Regression Models with Wine Quality Dataset"
   ]
  },
  {
   "cell_type": "code",
   "execution_count": 23,
   "metadata": {
    "colab": {
     "base_uri": "https://localhost:8080/",
     "height": 51
    },
    "colab_type": "code",
    "executionInfo": {
     "elapsed": 1943,
     "status": "ok",
     "timestamp": 1563617064439,
     "user": {
      "displayName": "Mahendran Mohan",
      "photoUrl": "",
      "userId": "02519250507792255562"
     },
     "user_tz": -330
    },
    "id": "_0ZS9ImYTgJi",
    "outputId": "dd8a3015-af41-406e-fc58-ae57f8d7db5a",
    "scrolled": true
   },
   "outputs": [
    {
     "name": "stdout",
     "output_type": "stream",
     "text": [
      "Parse progress: |█████████████████████████████████████████████████████████| 100%\n"
     ]
    },
    {
     "data": {
      "text/plain": [
       "[6497, 13]"
      ]
     },
     "execution_count": 23,
     "metadata": {
      "tags": []
     },
     "output_type": "execute_result"
    }
   ],
   "source": [
    "wine_quality = h2o.get_frame(\"wine.hex\")\n",
    "if wine_quality is None:\n",
    "    wine_quality = h2o.import_file(\"https://s3.amazonaws.com/h2o-public-test-data/smalldata/wine/winequality-redwhite.csv\",\n",
    "                               destination_frame = \"wine.hex\")\n",
    "wine_quality.dim"
   ]
  },
  {
   "cell_type": "code",
   "execution_count": 24,
   "metadata": {
    "colab": {
     "base_uri": "https://localhost:8080/",
     "height": 242
    },
    "colab_type": "code",
    "executionInfo": {
     "elapsed": 898,
     "status": "ok",
     "timestamp": 1563617069691,
     "user": {
      "displayName": "Mahendran Mohan",
      "photoUrl": "",
      "userId": "02519250507792255562"
     },
     "user_tz": -330
    },
    "id": "1kQfAwZoTgJq",
    "outputId": "4e61092a-741b-4f66-e8bc-fc39bed38b58"
   },
   "outputs": [
    {
     "data": {
      "text/plain": [
       "['\\ufefffixed acidity',\n",
       " 'volatile acidity',\n",
       " 'citric acid',\n",
       " 'residual sugar',\n",
       " 'chlorides',\n",
       " 'free sulfur dioxide',\n",
       " 'total sulfur dioxide',\n",
       " 'density',\n",
       " 'pH',\n",
       " 'sulphates',\n",
       " 'alcohol',\n",
       " 'quality',\n",
       " 'type']"
      ]
     },
     "execution_count": 24,
     "metadata": {
      "tags": []
     },
     "output_type": "execute_result"
    }
   ],
   "source": [
    "wine_quality.col_names"
   ]
  },
  {
   "cell_type": "code",
   "execution_count": 0,
   "metadata": {
    "colab": {},
    "colab_type": "code",
    "id": "lUqIHqN9TgJt"
   },
   "outputs": [],
   "source": [
    "y = \"quality\"\n",
    "x = wine_quality.col_names\n",
    "x.remove(y)"
   ]
  },
  {
   "cell_type": "markdown",
   "metadata": {
    "colab_type": "text",
    "id": "zEPZi0HPTgJu"
   },
   "source": [
    "### GLM Regression Model (Linear Model)"
   ]
  },
  {
   "cell_type": "code",
   "execution_count": 26,
   "metadata": {
    "colab": {
     "base_uri": "https://localhost:8080/",
     "height": 34
    },
    "colab_type": "code",
    "executionInfo": {
     "elapsed": 1169,
     "status": "ok",
     "timestamp": 1563617073311,
     "user": {
      "displayName": "Mahendran Mohan",
      "photoUrl": "",
      "userId": "02519250507792255562"
     },
     "user_tz": -330
    },
    "id": "27-NZ6AeTgJv",
    "outputId": "292508b5-3e7e-4be6-8de7-ba0f7247ae66"
   },
   "outputs": [
    {
     "name": "stdout",
     "output_type": "stream",
     "text": [
      "glm Model Build progress: |███████████████████████████████████████████████| 100%\n"
     ]
    }
   ],
   "source": [
    "# Train GLM Regression\n",
    "glm_wine_model = H2OGeneralizedLinearEstimator(family = \"gaussian\", nfolds = 3, seed = 75205)\n",
    "glm_wine_model.train(x, y, training_frame = wine_quality, model_id = \"glm_wine_py_model\")"
   ]
  },
  {
   "cell_type": "code",
   "execution_count": 27,
   "metadata": {
    "colab": {
     "base_uri": "https://localhost:8080/",
     "height": 632
    },
    "colab_type": "code",
    "executionInfo": {
     "elapsed": 1525,
     "status": "ok",
     "timestamp": 1563617075614,
     "user": {
      "displayName": "Mahendran Mohan",
      "photoUrl": "",
      "userId": "02519250507792255562"
     },
     "user_tz": -330
    },
    "id": "6QhYhmBSTgJy",
    "outputId": "011d4c8a-aad4-4172-bfc3-d62e78aaf80d"
   },
   "outputs": [
    {
     "data": {
      "image/png": "[encoded data removed]",
      "text/plain": [
       "<Figure size 1008x720 with 1 Axes>"
      ]
     },
     "metadata": {
      "tags": []
     },
     "output_type": "display_data"
    }
   ],
   "source": [
    "glm_wine_model.varimp_plot()"
   ]
  },
  {
   "cell_type": "code",
   "execution_count": 28,
   "metadata": {
    "colab": {
     "base_uri": "https://localhost:8080/",
     "height": 277
    },
    "colab_type": "code",
    "executionInfo": {
     "elapsed": 1212,
     "status": "ok",
     "timestamp": 1563617077146,
     "user": {
      "displayName": "Mahendran Mohan",
      "photoUrl": "",
      "userId": "02519250507792255562"
     },
     "user_tz": -330
    },
    "id": "N6WH_0xmTgJ3",
    "outputId": "92fe3d72-e282-4f40-c6da-c88d741747d6",
    "scrolled": true
   },
   "outputs": [
    {
     "name": "stdout",
     "output_type": "stream",
     "text": [
      "\n",
      "ModelMetricsRegressionGLM: glm\n",
      "** Reported on cross-validation data. **\n",
      "\n",
      "MSE: 0.5413493210799418\n",
      "RMSE: 0.7357644467354629\n",
      "MAE: 0.5714590986708442\n",
      "RMSLE: 0.10987641228848109\n",
      "R^2: 0.28999400622440186\n",
      "Mean Residual Deviance: 0.5413493210799418\n",
      "Null degrees of freedom: 6496\n",
      "Residual degrees of freedom: 6483\n",
      "Null deviance: 4955.154860463656\n",
      "Residual deviance: 3517.1465390563817\n",
      "AIC: 14480.540035226095\n"
     ]
    },
    {
     "data": {
      "text/plain": []
     },
     "execution_count": 28,
     "metadata": {
      "tags": []
     },
     "output_type": "execute_result"
    }
   ],
   "source": [
    "glm_wine_model.model_performance(xval = True)"
   ]
  },
  {
   "cell_type": "markdown",
   "metadata": {
    "colab_type": "text",
    "id": "Xwoh_AB0TgJ6"
   },
   "source": [
    "### GBM Regression Model"
   ]
  },
  {
   "cell_type": "code",
   "execution_count": 29,
   "metadata": {
    "colab": {
     "base_uri": "https://localhost:8080/",
     "height": 34
    },
    "colab_type": "code",
    "executionInfo": {
     "elapsed": 8158,
     "status": "ok",
     "timestamp": 1563617086520,
     "user": {
      "displayName": "Mahendran Mohan",
      "photoUrl": "",
      "userId": "02519250507792255562"
     },
     "user_tz": -330
    },
    "id": "e8jBjkYATgJ6",
    "outputId": "0c0bd5ab-291c-4e05-bb91-def17af6f38d"
   },
   "outputs": [
    {
     "name": "stdout",
     "output_type": "stream",
     "text": [
      "gbm Model Build progress: |███████████████████████████████████████████████| 100%\n"
     ]
    }
   ],
   "source": [
    "from h2o.estimators import H2OGradientBoostingEstimator\n",
    "\n",
    "xgb_wine_model = H2OGradientBoostingEstimator(nfolds = 3, seed = 75205)\n",
    "xgb_wine_model.train(x, y, training_frame = wine_quality, model_id = \"gbm_wine_py_model\")"
   ]
  },
  {
   "cell_type": "code",
   "execution_count": 30,
   "metadata": {
    "colab": {
     "base_uri": "https://localhost:8080/",
     "height": 632
    },
    "colab_type": "code",
    "executionInfo": {
     "elapsed": 6919,
     "status": "ok",
     "timestamp": 1563617087029,
     "user": {
      "displayName": "Mahendran Mohan",
      "photoUrl": "",
      "userId": "02519250507792255562"
     },
     "user_tz": -330
    },
    "id": "wgQ6Is-RTgJ9",
    "outputId": "6c03c294-8c92-4c6a-c4fd-7b7342049856"
   },
   "outputs": [
    {
     "data": {
      "image/png": "[encoded data removed]",
      "text/plain": [
       "<Figure size 1008x720 with 1 Axes>"
      ]
     },
     "metadata": {
      "tags": []
     },
     "output_type": "display_data"
    }
   ],
   "source": [
    "xgb_wine_model.varimp_plot()"
   ]
  },
  {
   "cell_type": "code",
   "execution_count": 31,
   "metadata": {
    "colab": {
     "base_uri": "https://localhost:8080/",
     "height": 173
    },
    "colab_type": "code",
    "executionInfo": {
     "elapsed": 859,
     "status": "ok",
     "timestamp": 1563617092151,
     "user": {
      "displayName": "Mahendran Mohan",
      "photoUrl": "",
      "userId": "02519250507792255562"
     },
     "user_tz": -330
    },
    "id": "ZclMPtL5TgJ_",
    "outputId": "2a18b145-8227-435d-cc72-8c487f8c5011"
   },
   "outputs": [
    {
     "name": "stdout",
     "output_type": "stream",
     "text": [
      "\n",
      "ModelMetricsRegression: gbm\n",
      "** Reported on cross-validation data. **\n",
      "\n",
      "MSE: 0.4576307679815389\n",
      "RMSE: 0.6764841224903501\n",
      "MAE: 0.5237261895840969\n",
      "RMSLE: 0.10148727828362909\n",
      "Mean Residual Deviance: 0.4576307679815389\n"
     ]
    },
    {
     "data": {
      "text/plain": []
     },
     "execution_count": 31,
     "metadata": {
      "tags": []
     },
     "output_type": "execute_result"
    }
   ],
   "source": [
    "xgb_wine_model.model_performance(xval = True)"
   ]
  },
  {
   "cell_type": "markdown",
   "metadata": {
    "colab_type": "text",
    "id": "_oWJ4tnDTgKC"
   },
   "source": [
    "### Train Regression Using H2O's AutoML"
   ]
  },
  {
   "cell_type": "code",
   "execution_count": 0,
   "metadata": {
    "colab": {},
    "colab_type": "code",
    "id": "KxyAAztxTgKD"
   },
   "outputs": [],
   "source": [
    "(wine_quality_train, wine_quality_test) = wine_quality.split_frame(ratios = [.8], seed = 75205,\n",
    "                                  destination_frames = [\"wine.quality.train\", \"wine.quality.test\"])"
   ]
  },
  {
   "cell_type": "code",
   "execution_count": 0,
   "metadata": {
    "colab": {},
    "colab_type": "code",
    "id": "-r2OetnpTgKH"
   },
   "outputs": [],
   "source": [
    "# opitonal - both already exist\n",
    "wine_quality_train = h2o.get_frame(\"wine.quality.train\")\n",
    "wine_quality_test = h2o.get_frame(\"wine.quality.test\")"
   ]
  },
  {
   "cell_type": "code",
   "execution_count": 34,
   "metadata": {
    "colab": {
     "base_uri": "https://localhost:8080/",
     "height": 34
    },
    "colab_type": "code",
    "executionInfo": {
     "elapsed": 63074,
     "status": "ok",
     "timestamp": 1563617159753,
     "user": {
      "displayName": "Mahendran Mohan",
      "photoUrl": "",
      "userId": "02519250507792255562"
     },
     "user_tz": -330
    },
    "id": "tPP9LGYcTgKJ",
    "outputId": "8974df73-3475-419b-be18-f0a4eac9b202"
   },
   "outputs": [
    {
     "name": "stdout",
     "output_type": "stream",
     "text": [
      "AutoML progress: |█████████████████████████████████████████████████████████| 100%\n"
     ]
    }
   ],
   "source": [
    "aml_wine_model = H2OAutoML(max_runtime_secs = 60, nfolds = 3, seed = 75205,\n",
    "                            include_algos = ['GLM','DRF','GBM'], \n",
    "                            project_name = \"automl_wine_py_model\",\n",
    "                            keep_cross_validation_predictions = False,\n",
    "                            keep_cross_validation_models = False,\n",
    "                            keep_cross_validation_fold_assignment = False)\n",
    "aml_wine_model.train(x = x, y = y, \n",
    "                     training_frame = wine_quality_train, \n",
    "                     leaderboard_frame = wine_quality_test)"
   ]
  },
  {
   "cell_type": "code",
   "execution_count": 35,
   "metadata": {
    "colab": {
     "base_uri": "https://localhost:8080/",
     "height": 282
    },
    "colab_type": "code",
    "executionInfo": {
     "elapsed": 883,
     "status": "ok",
     "timestamp": 1563617164307,
     "user": {
      "displayName": "Mahendran Mohan",
      "photoUrl": "",
      "userId": "02519250507792255562"
     },
     "user_tz": -330
    },
    "id": "uwTaXoH-TgKN",
    "outputId": "b7a289d0-daeb-457a-c665-f987beacb606"
   },
   "outputs": [
    {
     "data": {
      "text/html": [
       "<table>\n",
       "<thead>\n",
       "<tr><th>model_id                                 </th><th style=\"text-align: right;\">  mean_residual_deviance</th><th style=\"text-align: right;\">    rmse</th><th style=\"text-align: right;\">     mse</th><th style=\"text-align: right;\">     mae</th><th style=\"text-align: right;\">    rmsle</th></tr>\n",
       "</thead>\n",
       "<tbody>\n",
       "<tr><td>DRF_1_AutoML_20190720_100455             </td><td style=\"text-align: right;\">                0.373424</td><td style=\"text-align: right;\">0.611084</td><td style=\"text-align: right;\">0.373424</td><td style=\"text-align: right;\">0.427379</td><td style=\"text-align: right;\">0.0945481</td></tr>\n",
       "<tr><td>XRT_1_AutoML_20190720_100455             </td><td style=\"text-align: right;\">                0.376333</td><td style=\"text-align: right;\">0.61346 </td><td style=\"text-align: right;\">0.376333</td><td style=\"text-align: right;\">0.428517</td><td style=\"text-align: right;\">0.0950342</td></tr>\n",
       "<tr><td>GBM_grid_1_AutoML_20190720_100455_model_2</td><td style=\"text-align: right;\">                0.409889</td><td style=\"text-align: right;\">0.640226</td><td style=\"text-align: right;\">0.409889</td><td style=\"text-align: right;\">0.459596</td><td style=\"text-align: right;\">0.0985485</td></tr>\n",
       "<tr><td>GBM_4_AutoML_20190720_100455             </td><td style=\"text-align: right;\">                0.411014</td><td style=\"text-align: right;\">0.641104</td><td style=\"text-align: right;\">0.411014</td><td style=\"text-align: right;\">0.464847</td><td style=\"text-align: right;\">0.0981984</td></tr>\n",
       "<tr><td>GBM_3_AutoML_20190720_100455             </td><td style=\"text-align: right;\">                0.429698</td><td style=\"text-align: right;\">0.655513</td><td style=\"text-align: right;\">0.429698</td><td style=\"text-align: right;\">0.486848</td><td style=\"text-align: right;\">0.10019  </td></tr>\n",
       "<tr><td>GBM_1_AutoML_20190720_100455             </td><td style=\"text-align: right;\">                0.434578</td><td style=\"text-align: right;\">0.659225</td><td style=\"text-align: right;\">0.434578</td><td style=\"text-align: right;\">0.495745</td><td style=\"text-align: right;\">0.100615 </td></tr>\n",
       "<tr><td>GBM_grid_1_AutoML_20190720_100455_model_3</td><td style=\"text-align: right;\">                0.437989</td><td style=\"text-align: right;\">0.661807</td><td style=\"text-align: right;\">0.437989</td><td style=\"text-align: right;\">0.495743</td><td style=\"text-align: right;\">0.101345 </td></tr>\n",
       "<tr><td>GBM_2_AutoML_20190720_100455             </td><td style=\"text-align: right;\">                0.438609</td><td style=\"text-align: right;\">0.662276</td><td style=\"text-align: right;\">0.438609</td><td style=\"text-align: right;\">0.498043</td><td style=\"text-align: right;\">0.101205 </td></tr>\n",
       "<tr><td>GBM_5_AutoML_20190720_100455             </td><td style=\"text-align: right;\">                0.455433</td><td style=\"text-align: right;\">0.674858</td><td style=\"text-align: right;\">0.455433</td><td style=\"text-align: right;\">0.506269</td><td style=\"text-align: right;\">0.103169 </td></tr>\n",
       "<tr><td>GBM_grid_1_AutoML_20190720_100455_model_1</td><td style=\"text-align: right;\">                0.475251</td><td style=\"text-align: right;\">0.689384</td><td style=\"text-align: right;\">0.475251</td><td style=\"text-align: right;\">0.516093</td><td style=\"text-align: right;\">0.105639 </td></tr>\n",
       "</tbody>\n",
       "</table>"
      ]
     },
     "metadata": {
      "tags": []
     },
     "output_type": "display_data"
    },
    {
     "name": "stdout",
     "output_type": "stream",
     "text": [
      "\n"
     ]
    }
   ],
   "source": [
    "print(aml_wine_model.leaderboard)"
   ]
  },
  {
   "cell_type": "code",
   "execution_count": 0,
   "metadata": {
    "colab": {},
    "colab_type": "code",
    "id": "ZRcrvGUVXHzN"
   },
   "outputs": [],
   "source": []
  },
  {
   "cell_type": "code",
   "execution_count": 0,
   "metadata": {
    "colab": {},
    "colab_type": "code",
    "id": "vbqSmsB1YO6B"
   },
   "outputs": [],
   "source": []
  },
  {
   "cell_type": "code",
   "execution_count": 36,
   "metadata": {
    "colab": {
     "base_uri": "https://localhost:8080/",
     "height": 34
    },
    "colab_type": "code",
    "executionInfo": {
     "elapsed": 2946,
     "status": "ok",
     "timestamp": 1563617176104,
     "user": {
      "displayName": "Mahendran Mohan",
      "photoUrl": "",
      "userId": "02519250507792255562"
     },
     "user_tz": -330
    },
    "id": "9yvzQz2MXPtV",
    "outputId": "fff63bc6-e78f-418a-c64a-4ae5959e8c7e"
   },
   "outputs": [
    {
     "name": "stdout",
     "output_type": "stream",
     "text": [
      "Parse progress: |█████████████████████████████████████████████████████████| 100%\n"
     ]
    }
   ],
   "source": [
    "# Use local data file or download from GitHub\n",
    "import os\n",
    "docker_data_path = \"/home/h2o/data/automl/powerplant_output.csv\"\n",
    "if os.path.isfile(docker_data_path):\n",
    "  data_path = docker_data_path\n",
    "else:\n",
    "  data_path = \"https://github.com/h2oai/h2o-tutorials/raw/master/h2o-world-2017/automl/data/powerplant_output.csv\"\n",
    "\n",
    "\n",
    "# Load data into H2O\n",
    "df = h2o.import_file(data_path)"
   ]
  },
  {
   "cell_type": "markdown",
   "metadata": {
    "colab_type": "text",
    "id": "YudYaGiYXPtY"
   },
   "source": [
    "Let's take a look at the data."
   ]
  },
  {
   "cell_type": "code",
   "execution_count": 37,
   "metadata": {
    "colab": {
     "base_uri": "https://localhost:8080/",
     "height": 478
    },
    "colab_type": "code",
    "executionInfo": {
     "elapsed": 871,
     "status": "ok",
     "timestamp": 1563617180039,
     "user": {
      "displayName": "Mahendran Mohan",
      "photoUrl": "",
      "userId": "02519250507792255562"
     },
     "user_tz": -330
    },
    "id": "62tND94RXPtZ",
    "outputId": "334155fe-14ab-45bb-8eb8-cd873ef8c21a"
   },
   "outputs": [
    {
     "name": "stdout",
     "output_type": "stream",
     "text": [
      "Rows:9568\n",
      "Cols:5\n",
      "\n",
      "\n"
     ]
    },
    {
     "data": {
      "text/html": [
       "<table>\n",
       "<thead>\n",
       "<tr><th>       </th><th>TemperatureCelcius  </th><th>ExhaustVacuumHg   </th><th>AmbientPressureMillibar  </th><th>RelativeHumidity  </th><th>HourlyEnergyOutputMW  </th></tr>\n",
       "</thead>\n",
       "<tbody>\n",
       "<tr><td>type   </td><td>real                </td><td>real              </td><td>real                     </td><td>real              </td><td>real                  </td></tr>\n",
       "<tr><td>mins   </td><td>1.81                </td><td>25.36             </td><td>992.89                   </td><td>25.56             </td><td>420.26                </td></tr>\n",
       "<tr><td>mean   </td><td>19.651231187290957  </td><td>54.3058037207358  </td><td>1013.2590781772578       </td><td>73.30897784280936 </td><td>454.36500940635455    </td></tr>\n",
       "<tr><td>maxs   </td><td>37.11               </td><td>81.56             </td><td>1033.3                   </td><td>100.16            </td><td>495.76                </td></tr>\n",
       "<tr><td>sigma  </td><td>7.452473229611082   </td><td>12.707892998326807</td><td>5.93878370581162         </td><td>14.600268756728957</td><td>17.066994999803423    </td></tr>\n",
       "<tr><td>zeros  </td><td>0                   </td><td>0                 </td><td>0                        </td><td>0                 </td><td>0                     </td></tr>\n",
       "<tr><td>missing</td><td>0                   </td><td>0                 </td><td>0                        </td><td>0                 </td><td>0                     </td></tr>\n",
       "<tr><td>0      </td><td>14.96               </td><td>41.76             </td><td>1024.07                  </td><td>73.17             </td><td>463.26                </td></tr>\n",
       "<tr><td>1      </td><td>25.18               </td><td>62.96             </td><td>1020.04                  </td><td>59.08             </td><td>444.37                </td></tr>\n",
       "<tr><td>2      </td><td>5.11                </td><td>39.4              </td><td>1012.16                  </td><td>92.14             </td><td>488.56                </td></tr>\n",
       "<tr><td>3      </td><td>20.86               </td><td>57.32             </td><td>1010.24                  </td><td>76.64             </td><td>446.48                </td></tr>\n",
       "<tr><td>4      </td><td>10.82               </td><td>37.5              </td><td>1009.23                  </td><td>96.62             </td><td>473.9                 </td></tr>\n",
       "<tr><td>5      </td><td>26.27               </td><td>59.44             </td><td>1012.23                  </td><td>58.77             </td><td>443.67                </td></tr>\n",
       "<tr><td>6      </td><td>15.89               </td><td>43.96             </td><td>1014.02                  </td><td>75.24             </td><td>467.35                </td></tr>\n",
       "<tr><td>7      </td><td>9.48                </td><td>44.71             </td><td>1019.12                  </td><td>66.43             </td><td>478.42                </td></tr>\n",
       "<tr><td>8      </td><td>14.64               </td><td>45.0              </td><td>1021.78                  </td><td>41.25             </td><td>475.98                </td></tr>\n",
       "<tr><td>9      </td><td>11.74               </td><td>43.56             </td><td>1015.14                  </td><td>70.72             </td><td>477.5                 </td></tr>\n",
       "</tbody>\n",
       "</table>"
      ]
     },
     "metadata": {
      "tags": []
     },
     "output_type": "display_data"
    }
   ],
   "source": [
    "df.describe()"
   ]
  },
  {
   "cell_type": "markdown",
   "metadata": {
    "colab_type": "text",
    "id": "U_1A4gIJXPtc"
   },
   "source": [
    "Next, let's identify the response column and save the column name as `y`.  In this dataset, we will use all columns except the response as predictors, so we can skip setting the `x` argument explicitly."
   ]
  },
  {
   "cell_type": "code",
   "execution_count": 0,
   "metadata": {
    "colab": {},
    "colab_type": "code",
    "id": "TBQcBZfgXPtd"
   },
   "outputs": [],
   "source": [
    "y = \"HourlyEnergyOutputMW\""
   ]
  },
  {
   "cell_type": "markdown",
   "metadata": {
    "colab_type": "text",
    "id": "CCf7t-6zXPtf"
   },
   "source": [
    "Lastly, let's split the data into two frames, a `train` (80%) and a `test` frame (20%).  The `test` frame will be used to score the leaderboard and to demonstrate how to generate predictions using an AutoML leader model."
   ]
  },
  {
   "cell_type": "code",
   "execution_count": 0,
   "metadata": {
    "colab": {},
    "colab_type": "code",
    "id": "TrcIVavUXPtg"
   },
   "outputs": [],
   "source": [
    "splits = df.split_frame(ratios = [0.8], seed = 1)\n",
    "train = splits[0]\n",
    "test = splits[1]"
   ]
  },
  {
   "cell_type": "markdown",
   "metadata": {
    "colab_type": "text",
    "id": "XEf3ya0lXPti"
   },
   "source": [
    "## Run AutoML \n",
    "\n",
    "Run AutoML, stopping after 60 seconds.  The `max_runtime_secs` argument provides a way to limit the AutoML run by time.  When using a time-limited stopping criterion, the number of models train will vary between runs.  If different hardware is used or even if the same machine is used but the available compute resources on that machine are not the same between runs, then AutoML may be able to train more models on one run vs another. \n",
    "\n",
    "The `test` frame is passed explicitly to the `leaderboard_frame` argument here, which means that instead of using cross-validated metrics, we use test set metrics for generating the leaderboard."
   ]
  },
  {
   "cell_type": "code",
   "execution_count": 40,
   "metadata": {
    "colab": {
     "base_uri": "https://localhost:8080/",
     "height": 34
    },
    "colab_type": "code",
    "executionInfo": {
     "elapsed": 63697,
     "status": "ok",
     "timestamp": 1563617252499,
     "user": {
      "displayName": "Mahendran Mohan",
      "photoUrl": "",
      "userId": "02519250507792255562"
     },
     "user_tz": -330
    },
    "id": "-hLXSsN6XPtj",
    "outputId": "a2ab8903-444d-4574-9837-ea8127734173"
   },
   "outputs": [
    {
     "name": "stdout",
     "output_type": "stream",
     "text": [
      "AutoML progress: |████████████████████████████████████████████████████████| 100%\n"
     ]
    }
   ],
   "source": [
    "aml = H2OAutoML(max_runtime_secs = 60, seed = 1, project_name = \"powerplant_lb_frame\")\n",
    "aml.train(y = y, training_frame = train, leaderboard_frame = test)"
   ]
  },
  {
   "cell_type": "markdown",
   "metadata": {
    "colab_type": "text",
    "id": "digvcGo4XPtm"
   },
   "source": [
    "*Note: If you see the following error, it means that you need to install the pandas module.*\n",
    "```\n",
    "H2OTypeError: Argument `python_obj` should be a None | list | tuple | dict | numpy.ndarray | pandas.DataFrame | scipy.sparse.issparse, got H2OTwoDimTable \n",
    "``` "
   ]
  },
  {
   "cell_type": "markdown",
   "metadata": {
    "colab_type": "text",
    "id": "-7J1cQbTXPtm"
   },
   "source": [
    "For demonstration purposes, we will also execute a second AutoML run, this time providing the original, full dataset, `df` (without passing a `leaderboard_frame`).  This is a more efficient use of our data since we can use 100% of the data for training, rather than 80% like we did above.  This time our leaderboard will use cross-validated metrics.\n",
    "\n",
    "*Note: Using an explicit `leaderboard_frame` for scoring may be useful in some cases, which is why the option is available.*  "
   ]
  },
  {
   "cell_type": "code",
   "execution_count": 0,
   "metadata": {
    "colab": {
     "base_uri": "https://localhost:8080/",
     "height": 34
    },
    "colab_type": "code",
    "executionInfo": {
     "elapsed": 63929,
     "status": "ok",
     "timestamp": 1563408276002,
     "user": {
      "displayName": "Mahendran Mohan",
      "photoUrl": "",
      "userId": "02519250507792255562"
     },
     "user_tz": -330
    },
    "id": "FgbLgsPlXPtn",
    "outputId": "fc2bedcf-322b-4063-817c-33df8b15bfd1"
   },
   "outputs": [
    {
     "name": "stdout",
     "output_type": "stream",
     "text": [
      "AutoML progress: |████████████████████████████████████████████████████████| 100%\n"
     ]
    }
   ],
   "source": [
    "aml2 = H2OAutoML(max_runtime_secs = 60, seed = 1, project_name = \"powerplant_full_data\")\n",
    "aml2.train(y = y, training_frame = df)"
   ]
  },
  {
   "cell_type": "markdown",
   "metadata": {
    "colab_type": "text",
    "id": "xMofrr8GXPtr"
   },
   "source": [
    "*Note: We specify a `project_name` here for clarity.*"
   ]
  },
  {
   "cell_type": "markdown",
   "metadata": {
    "colab_type": "text",
    "id": "re_KlRqKXPts"
   },
   "source": [
    "## Leaderboard\n",
    "\n",
    "Next, we will view the AutoML Leaderboard.  Since we specified a `leaderboard_frame` in the `H2OAutoML.train()` method for scoring and ranking the models, the AutoML leaderboard uses the performance on this data to rank the models.\n",
    "\n",
    "After viewing the `\"powerplant_lb_frame\"` AutoML project leaderboard, we compare that to the leaderboard for the `\"powerplant_full_data\"` project.  We can see that the results are better when the full dataset is used for training.  \n",
    "\n",
    "A default performance metric for each machine learning task (binary classification, multiclass classification, regression) is specified internally and the leaderboard will be sorted by that metric.  In the case of regression, the default ranking metric is mean residual deviance.  In the future, the user will be able to specify any of the H2O metrics so that different metrics can be used to generate rankings on the leaderboard."
   ]
  },
  {
   "cell_type": "code",
   "execution_count": 41,
   "metadata": {
    "colab": {
     "base_uri": "https://localhost:8080/",
     "height": 141
    },
    "colab_type": "code",
    "executionInfo": {
     "elapsed": 869,
     "status": "ok",
     "timestamp": 1563617290268,
     "user": {
      "displayName": "Mahendran Mohan",
      "photoUrl": "",
      "userId": "02519250507792255562"
     },
     "user_tz": -330
    },
    "id": "71vZwLscXPts",
    "outputId": "2b7b876f-25ce-4a20-a748-1fd70d7a873e"
   },
   "outputs": [
    {
     "data": {
      "text/html": [
       "<table>\n",
       "<thead>\n",
       "<tr><th>model_id                                           </th><th style=\"text-align: right;\">  mean_residual_deviance</th><th style=\"text-align: right;\">    rmse</th><th style=\"text-align: right;\">      mse</th><th style=\"text-align: right;\">     mae</th><th style=\"text-align: right;\">     rmsle</th></tr>\n",
       "</thead>\n",
       "<tbody>\n",
       "<tr><td>XGBoost_1_AutoML_20190720_100627                   </td><td style=\"text-align: right;\">                 11.1589</td><td style=\"text-align: right;\"> 3.3405 </td><td style=\"text-align: right;\">  11.1589</td><td style=\"text-align: right;\"> 2.37046</td><td style=\"text-align: right;\">0.00736514</td></tr>\n",
       "<tr><td>StackedEnsemble_BestOfFamily_AutoML_20190720_100627</td><td style=\"text-align: right;\">                 11.2318</td><td style=\"text-align: right;\"> 3.35139</td><td style=\"text-align: right;\">  11.2318</td><td style=\"text-align: right;\"> 2.39573</td><td style=\"text-align: right;\">0.00739007</td></tr>\n",
       "<tr><td>StackedEnsemble_AllModels_AutoML_20190720_100627   </td><td style=\"text-align: right;\">                 11.2435</td><td style=\"text-align: right;\"> 3.35313</td><td style=\"text-align: right;\">  11.2435</td><td style=\"text-align: right;\"> 2.39727</td><td style=\"text-align: right;\">0.00739421</td></tr>\n",
       "<tr><td>XGBoost_2_AutoML_20190720_100627                   </td><td style=\"text-align: right;\">               1529.74  </td><td style=\"text-align: right;\">39.1119 </td><td style=\"text-align: right;\">1529.74  </td><td style=\"text-align: right;\">38.7602 </td><td style=\"text-align: right;\">0.0894516 </td></tr>\n",
       "</tbody>\n",
       "</table>"
      ]
     },
     "metadata": {
      "tags": []
     },
     "output_type": "display_data"
    },
    {
     "data": {
      "text/plain": []
     },
     "execution_count": 41,
     "metadata": {
      "tags": []
     },
     "output_type": "execute_result"
    }
   ],
   "source": [
    "aml.leaderboard.head()"
   ]
  },
  {
   "cell_type": "markdown",
   "metadata": {
    "colab_type": "text",
    "id": "CAVW34X6XPtv"
   },
   "source": [
    "Now we will view a snapshot of the top models.  Here we should see the two Stacked Ensembles at or near the top of the leaderboard.  Stacked Ensembles can almost always outperform a single model."
   ]
  },
  {
   "cell_type": "code",
   "execution_count": 0,
   "metadata": {
    "colab": {
     "base_uri": "https://localhost:8080/",
     "height": 118
    },
    "colab_type": "code",
    "executionInfo": {
     "elapsed": 903,
     "status": "ok",
     "timestamp": 1563408300193,
     "user": {
      "displayName": "Mahendran Mohan",
      "photoUrl": "",
      "userId": "02519250507792255562"
     },
     "user_tz": -330
    },
    "id": "19JO6l4ZXPtw",
    "outputId": "8a7e8912-3ecd-4d16-b3b6-922db1c6ad66"
   },
   "outputs": [
    {
     "data": {
      "text/html": [
       "<table>\n",
       "<thead>\n",
       "<tr><th>model_id                                           </th><th style=\"text-align: right;\">  mean_residual_deviance</th><th style=\"text-align: right;\">    rmse</th><th style=\"text-align: right;\">      mse</th><th style=\"text-align: right;\">     mae</th><th style=\"text-align: right;\">     rmsle</th></tr>\n",
       "</thead>\n",
       "<tbody>\n",
       "<tr><td>XGBoost_1_AutoML_20190718_000328                   </td><td style=\"text-align: right;\">                 10.65  </td><td style=\"text-align: right;\"> 3.26344</td><td style=\"text-align: right;\">  10.65  </td><td style=\"text-align: right;\"> 2.36821</td><td style=\"text-align: right;\">0.00717828</td></tr>\n",
       "<tr><td>StackedEnsemble_BestOfFamily_AutoML_20190718_000328</td><td style=\"text-align: right;\">                 10.7751</td><td style=\"text-align: right;\"> 3.28255</td><td style=\"text-align: right;\">  10.7751</td><td style=\"text-align: right;\"> 2.40315</td><td style=\"text-align: right;\">0.00722046</td></tr>\n",
       "<tr><td>StackedEnsemble_AllModels_AutoML_20190718_000328   </td><td style=\"text-align: right;\">                 10.8068</td><td style=\"text-align: right;\"> 3.28737</td><td style=\"text-align: right;\">  10.8068</td><td style=\"text-align: right;\"> 2.40654</td><td style=\"text-align: right;\">0.00723098</td></tr>\n",
       "<tr><td>XGBoost_2_AutoML_20190718_000328                   </td><td style=\"text-align: right;\">               6433.27  </td><td style=\"text-align: right;\">80.2077 </td><td style=\"text-align: right;\">6433.27  </td><td style=\"text-align: right;\">76.5566 </td><td style=\"text-align: right;\">0.195184  </td></tr>\n",
       "</tbody>\n",
       "</table>"
      ]
     },
     "metadata": {
      "tags": []
     },
     "output_type": "display_data"
    },
    {
     "data": {
      "text/plain": []
     },
     "execution_count": 52,
     "metadata": {
      "tags": []
     },
     "output_type": "execute_result"
    }
   ],
   "source": [
    "aml2.leaderboard.head()"
   ]
  },
  {
   "cell_type": "markdown",
   "metadata": {
    "colab_type": "text",
    "id": "L4P2d9yuXPtz"
   },
   "source": [
    "This dataset comes from the [UCI Machine Learning Repository](http://archive.ics.uci.edu/ml/datasets/Combined+Cycle+Power+Plant) of machine learning datasets.  The data was used in a [publication](https://www.sciencedirect.com/science/article/pii/S0142061514000908) in the *International Journal of Electrical Power & Energy Systems* in 2014.  In the paper, the authors achieved a mean absolute error (MAE) of 2.818 and a Root Mean-Squared Error (RMSE) of 3.787 on their best model.  So, with H2O's AutoML, we've already beaten the state-of-the-art in just 60 seconds of compute time!"
   ]
  },
  {
   "cell_type": "markdown",
   "metadata": {
    "colab_type": "text",
    "id": "7sDrpViXXPtz"
   },
   "source": [
    "## Predict Using Leader Model\n",
    "\n",
    "If you need to generate predictions on a test set, you can make predictions on the `\"H2OAutoML\"` object directly, or on the leader model object."
   ]
  },
  {
   "cell_type": "code",
   "execution_count": 42,
   "metadata": {
    "colab": {
     "base_uri": "https://localhost:8080/",
     "height": 262
    },
    "colab_type": "code",
    "executionInfo": {
     "elapsed": 1184,
     "status": "ok",
     "timestamp": 1563617312075,
     "user": {
      "displayName": "Mahendran Mohan",
      "photoUrl": "",
      "userId": "02519250507792255562"
     },
     "user_tz": -330
    },
    "id": "LmzcQ8BqXPt0",
    "outputId": "4a1d1f59-a9da-4ad4-e18b-52926e76e68c"
   },
   "outputs": [
    {
     "name": "stdout",
     "output_type": "stream",
     "text": [
      "xgboost prediction progress: |████████████████████████████████████████████| 100%\n"
     ]
    },
    {
     "data": {
      "text/html": [
       "<table>\n",
       "<thead>\n",
       "<tr><th style=\"text-align: right;\">  predict</th></tr>\n",
       "</thead>\n",
       "<tbody>\n",
       "<tr><td style=\"text-align: right;\">  485.692</td></tr>\n",
       "<tr><td style=\"text-align: right;\">  474.946</td></tr>\n",
       "<tr><td style=\"text-align: right;\">  462.761</td></tr>\n",
       "<tr><td style=\"text-align: right;\">  454.404</td></tr>\n",
       "<tr><td style=\"text-align: right;\">  448.113</td></tr>\n",
       "<tr><td style=\"text-align: right;\">  469.8  </td></tr>\n",
       "<tr><td style=\"text-align: right;\">  443.485</td></tr>\n",
       "<tr><td style=\"text-align: right;\">  463.392</td></tr>\n",
       "<tr><td style=\"text-align: right;\">  443.368</td></tr>\n",
       "<tr><td style=\"text-align: right;\">  432.364</td></tr>\n",
       "</tbody>\n",
       "</table>"
      ]
     },
     "metadata": {
      "tags": []
     },
     "output_type": "display_data"
    },
    {
     "data": {
      "text/plain": []
     },
     "execution_count": 42,
     "metadata": {
      "tags": []
     },
     "output_type": "execute_result"
    }
   ],
   "source": [
    "pred = aml.predict(test)\n",
    "pred.head()"
   ]
  },
  {
   "cell_type": "markdown",
   "metadata": {
    "colab_type": "text",
    "id": "162F02dHXPt3"
   },
   "source": [
    "If needed, the standard `model_performance()` method can be applied to the AutoML leader model and a test set to generate an H2O model performance object."
   ]
  },
  {
   "cell_type": "code",
   "execution_count": 43,
   "metadata": {
    "colab": {
     "base_uri": "https://localhost:8080/",
     "height": 173
    },
    "colab_type": "code",
    "executionInfo": {
     "elapsed": 899,
     "status": "ok",
     "timestamp": 1563617313916,
     "user": {
      "displayName": "Mahendran Mohan",
      "photoUrl": "",
      "userId": "02519250507792255562"
     },
     "user_tz": -330
    },
    "id": "Z3B3O870XPt3",
    "outputId": "7aad3faa-610e-4450-d036-0861e8fa249a"
   },
   "outputs": [
    {
     "name": "stdout",
     "output_type": "stream",
     "text": [
      "\n",
      "ModelMetricsRegression: xgboost\n",
      "** Reported on test data. **\n",
      "\n",
      "MSE: 11.158915825742225\n",
      "RMSE: 3.3404963442192575\n",
      "MAE: 2.3704585615508083\n",
      "RMSLE: 0.007365135835457534\n",
      "Mean Residual Deviance: 11.158915825742225\n"
     ]
    },
    {
     "data": {
      "text/plain": []
     },
     "execution_count": 43,
     "metadata": {
      "tags": []
     },
     "output_type": "execute_result"
    }
   ],
   "source": [
    "perf = aml.leader.model_performance(test)\n",
    "perf"
   ]
  },
  {
   "cell_type": "code",
   "execution_count": 0,
   "metadata": {
    "colab": {},
    "colab_type": "code",
    "id": "CmBgTiY7Zkxp"
   },
   "outputs": [],
   "source": []
  }
 ],
 "metadata": {
  "colab": {
   "collapsed_sections": [],
   "name": "AUTOML_H2O_unit_examples.ipynb",
   "provenance": [],
   "version": "0.3.2"
  },
  "kernelspec": {
   "display_name": "Python 3",
   "language": "python",
   "name": "python3"
  },
  "language_info": {
   "codemirror_mode": {
    "name": "ipython",
    "version": 3
   },
   "file_extension": ".py",
   "mimetype": "text/x-python",
   "name": "python",
   "nbconvert_exporter": "python",
   "pygments_lexer": "ipython3",
   "version": "3.6.8"
  }
 },
 "nbformat": 4,
 "nbformat_minor": 1
}
