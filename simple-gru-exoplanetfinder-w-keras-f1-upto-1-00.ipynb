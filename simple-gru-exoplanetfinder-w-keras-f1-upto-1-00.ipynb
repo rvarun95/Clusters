{
 "cells": [
  {
   "cell_type": "markdown",
   "metadata": {
    "_cell_guid": "8857b400-f026-491d-b37f-db42687e9959",
    "_uuid": "97c60e67987e531ad257ab0159fb7ea490911ac2"
   },
   "source": [
    "**A 1D convolutional net with one GRU Layer in Keras.**\n",
    "\n",
    "The data is directly fed into the net where it passes Conv + MaxPool to detect features, then it goes into a GRU + Dropout then activation.\n",
    "\n",
    "It trains fast (less than 5 minutes on my GTX 970) and usually gets an F1 Score > 0.8 and can go up to 1.00 but i'd like to test it on more test data to check if it overfits.\n",
    "\n",
    "Any comments appreciated."
   ]
  },
  {
   "cell_type": "code",
   "execution_count": 1,
   "metadata": {
    "_cell_guid": "510df66f-9618-4a1c-ba78-708292368586",
    "_uuid": "2bcc670057ed1140aa96a887fb7b1af7b232bc0e"
   },
   "outputs": [
    {
     "name": "stderr",
     "output_type": "stream",
     "text": [
      "Using TensorFlow backend.\n"
     ]
    }
   ],
   "source": [
    "import numpy as np\n",
    "import pandas as pd\n",
    "from numpy.random import seed\n",
    "from tensorflow import set_random_seed\n",
    "\n",
    "from sklearn.metrics import precision_recall_curve, average_precision_score, f1_score, precision_score, recall_score\n",
    "\n",
    "from keras.models import Model\n",
    "from keras.layers import Dense, Activation, Dropout, Input, Conv1D, GRU, Flatten, MaxPooling1D, BatchNormalization\n",
    "from keras.optimizers import Adam\n",
    "from keras import backend as K\n",
    "from keras.callbacks import ModelCheckpoint\n",
    "\n",
    "import matplotlib.pyplot as plt\n",
    "%matplotlib inline  "
   ]
  },
  {
   "cell_type": "markdown",
   "metadata": {
    "_cell_guid": "9e91f308-4ac4-4c33-9865-e3086e1531bd",
    "_uuid": "87e021abefcaf214115f9cc0b4245b620c1fa199"
   },
   "source": [
    "This function is used to visualize if the model make good predictions on the skewed class."
   ]
  },
  {
   "cell_type": "code",
   "execution_count": 2,
   "metadata": {
    "_cell_guid": "53942453-1262-44cc-939a-d5436365f2f5",
    "_uuid": "02e62c7ff9ea0dcebb0cc9388a00d01ad553a67a"
   },
   "outputs": [],
   "source": [
    "# Display test set precision recall curve\n",
    "def display_precision_recall_curve(reference, score):\n",
    "    \"\"\"\n",
    "    Function to display the precision recall for a reference set.\n",
    "    \n",
    "    Arguments:\n",
    "    reference -- the reference labels given for the set\n",
    "    score -- the score computed \n",
    "\n",
    "    Returns:\n",
    "    null\n",
    "    \"\"\"\n",
    "    average_precision = average_precision_score(reference, score)\n",
    "    precision, recall, _ = precision_recall_curve(reference, score)\n",
    "\n",
    "    plt.step(recall, precision, color='b', alpha=0.2, where='post')\n",
    "    plt.fill_between(recall, precision, step='post', alpha=0.2, color='b')\n",
    "    \n",
    "    plt.xlabel('Recall')\n",
    "    plt.ylabel('Precision')\n",
    "    plt.ylim([0.0, 1.05])\n",
    "    plt.xlim([0.0, 1.0])\n",
    "    plt.title('2-class Precision-Recall curve: AP={0:0.2f}'.format(average_precision))"
   ]
  },
  {
   "cell_type": "markdown",
   "metadata": {
    "_cell_guid": "3c97f132-5e96-4779-bcd5-5b76f668809d",
    "_uuid": "ec9f659490db11607a9afdc7a2ee7717d1426506"
   },
   "source": [
    "The simple model we will be using."
   ]
  },
  {
   "cell_type": "code",
   "execution_count": 3,
   "metadata": {
    "_cell_guid": "87726cda-195f-46d0-a855-d50f5417d70d",
    "_uuid": "7eeae82cc77cff62679636987219def5db63ceae"
   },
   "outputs": [],
   "source": [
    "def model(input_shape):\n",
    "    \"\"\"\n",
    "    Function creating the Exo_detector model.\n",
    "    \n",
    "    Arguments:\n",
    "    input_shape -- shape of the input\n",
    "\n",
    "    Returns:\n",
    "    model -- a model instance in Keras\n",
    "    \"\"\"\n",
    "    X_input = Input(shape = input_shape)\n",
    "    \n",
    "    # Step 1: CONV + MaxPool layer to detect patterns\n",
    "    X = Conv1D(32, kernel_size=10, strides=4)(X_input)\n",
    "    X = MaxPooling1D(pool_size=4, strides=2)(X)\n",
    "    X = Activation('relu')(X)\n",
    "    \n",
    "    # Step 2: GRU Layer\n",
    "    X = GRU(192,return_sequences=True)(X)\n",
    "    X = Flatten()(X)\n",
    "    \n",
    "    # Final sigmoid activation layer\n",
    "    X = Dropout(0.5)(X)                                 \n",
    "    X = BatchNormalization()(X)    \n",
    "    X = Dense(1, activation=\"sigmoid\")(X)\n",
    "\n",
    "    model = Model(inputs= X_input, outputs = X)\n",
    "    \n",
    "    return model  "
   ]
  },
  {
   "cell_type": "markdown",
   "metadata": {
    "_cell_guid": "3c52581c-2526-4aad-a9a3-f009700ae022",
    "_uuid": "c671b01c095092750a6d367535728be5634951b3"
   },
   "source": [
    "Importing the train then the test set.\n",
    "\n",
    "Note that we have to reshape X to 3D (n, m , 1) because it is required by the first Conv1D Layer."
   ]
  },
  {
   "cell_type": "code",
   "execution_count": 48,
   "metadata": {
    "_cell_guid": "ed1c2662-df59-49f0-8b76-f89b83ae38fd",
    "_kg_hide-input": false,
    "_uuid": "bfd7c889445789693a3823811c17d75885f0180c"
   },
   "outputs": [],
   "source": [
    "# get traincsv files\n",
    "#train = pd.read_csv(\"../input/exoTrain.csv\")\n",
    "#train = pd.read_csv(\"./exoTrain.csv\")\n",
    "#nx, m = train.shape\n",
    "#m -= 1\n",
    "\n",
    "#y_train = train['LABEL'].values\n",
    "#y_train -=1\n",
    "\n",
    "#X_train = train.drop('LABEL', axis=1).values.reshape(nx, m, 1)\n",
    "\n",
    "#print(\"Train set: \\nNumber of examples={0}\\nNumber of readings={1}\".format(nx, m))"
   ]
  },
  {
   "cell_type": "code",
   "execution_count": 49,
   "metadata": {
    "_cell_guid": "6677af46-3470-4b2a-bc1a-f6fca8463146",
    "_uuid": "03cb3879d49f2b83e576bd0acbbe340d3c5f2008"
   },
   "outputs": [],
   "source": [
    "# get testcsv files\n",
    "#test = pd.read_csv(\"./exoTest.csv\")\n",
    "#ny, my = test.shape\n",
    "#my -= 1\n",
    "\n",
    "#y_test = test['LABEL'].values\n",
    "#print(y_train[0:40], y_test[0:10])\n",
    "#y_test -= 1\n",
    "\n",
    "#X_test = test.drop('LABEL',axis=1).values.reshape(ny, m, 1)\n",
    "\n",
    "#assert m == my, \"Error: train and test set have not the same number of timesteps\"\n",
    "\n",
    "#print(\"Train set: \\nNumber of examples={0}\\nNumber of readings={1}\".format(ny, my))"
   ]
  },
  {
   "cell_type": "code",
   "execution_count": 22,
   "metadata": {},
   "outputs": [
    {
     "name": "stdout",
     "output_type": "stream",
     "text": [
      "<class 'numpy.ndarray'> (5087, 3197, 1)\n",
      "<class 'numpy.ndarray'> (570, 3197, 1)\n",
      "[1 1 1 1 1 1 1 1 1 1 1 1 1 1 1 1 1 1 1 1 1 1 1 1 1 1 1 1 1 1 1 1 1 1 1 1 1\n",
      " 0 0 0] [1 1 1 1 1 0 0 0 0 0]\n"
     ]
    }
   ],
   "source": [
    "#print(type(X_train), X_train.shape)\n",
    "#print(type(X_test), X_test.shape)\n",
    "#print(y_train[0:40], y_test[0:10])"
   ]
  },
  {
   "cell_type": "code",
   "execution_count": 24,
   "metadata": {},
   "outputs": [
    {
     "name": "stdout",
     "output_type": "stream",
     "text": [
      "[2 2 2 2 2 2 2 2 2 2 2 2 2 2 2 2 2 2 2 2 2 2 2 2 2 2 2 2 2 2 2 2 2 2 2 2 2\n",
      " 1 1 1] [2 2 2 2 2 1 1 1 1 1]\n",
      "<class 'numpy.ndarray'> (5087, 3197, 1)\n",
      "<class 'numpy.ndarray'> (570, 3197, 1)\n",
      "[1 1 1 1 1 1 1 1 1 1 1 1 1 1 1 1 1 1 1 1 1 1 1 1 1 1 1 1 1 1 1 1 1 1 1 1 1\n",
      " 0 0 0] [1 1 1 1 1 0 0 0 0 0]\n"
     ]
    }
   ],
   "source": [
    "from sklearn.preprocessing import StandardScaler\n",
    "from math import sqrt\n",
    "#X_train = ((X_train - np.mean(X_train, axis=1)) / np.std(X_train, axis=1))\n",
    "#X_test = ((X_test - np.mean(X_test, axis=1)) / np.std(X_test, axis=1))\n",
    "train = pd.read_csv(\"./exoTrain.csv\")\n",
    "test = pd.read_csv(\"./exoTest.csv\")\n",
    "nx, m = train.shape\n",
    "m -= 1\n",
    "\n",
    "ny, my = test.shape\n",
    "my -= 1\n",
    "\n",
    "y_train = train['LABEL'].values\n",
    "X_train = train.drop('LABEL', axis=1)\n",
    "y_test = test['LABEL'].values\n",
    "print(y_train[0:40], y_test[0:10])\n",
    "y_test -= 1\n",
    "y_train -=1\n",
    "\n",
    "X_test = test.drop('LABEL',axis=1)\n",
    "\n",
    "scaler = StandardScaler()\n",
    "scaler = scaler.fit(X_train)\n",
    "#print('Mean: %f, StandardDeviation: %f' % (scaler.mean_, sqrt(scaler.var_)))\n",
    "# standardization the dataset and print the first 5 rows\n",
    "X_train_normalized = scaler.transform(X_train)\n",
    "X_test_normalized = scaler.transform(X_test)\n",
    "\n",
    "\n",
    "X_train = X_train.values.reshape(nx, m, 1)\n",
    "\n",
    "X_test = X_test.values.reshape(ny, m, 1)\n",
    "print(type(X_train), X_train.shape)\n",
    "print(type(X_test), X_test.shape)\n",
    "print(y_train[0:40], y_test[0:10])"
   ]
  },
  {
   "cell_type": "code",
   "execution_count": 25,
   "metadata": {},
   "outputs": [],
   "source": [
    "from keras import backend as K\n",
    "def recall_m(y_true, y_pred):\n",
    "        true_positives = K.sum(K.round(K.clip(y_true * y_pred, 0, 1)))\n",
    "        possible_positives = K.sum(K.round(K.clip(y_true, 0, 1)))\n",
    "        recall = true_positives / (possible_positives + K.epsilon())\n",
    "        return recall\n",
    "\n",
    "def precision_m(y_true, y_pred):\n",
    "        true_positives = K.sum(K.round(K.clip(y_true * y_pred, 0, 1)))\n",
    "        predicted_positives = K.sum(K.round(K.clip(y_pred, 0, 1)))\n",
    "        precision = true_positives / (predicted_positives + K.epsilon())\n",
    "        return precision\n",
    "\n",
    "def f1_m(y_true, y_pred):\n",
    "    precision = precision_m(y_true, y_pred)\n",
    "    recall = recall_m(y_true, y_pred)\n",
    "    return 2*((precision*recall)/(precision+recall+K.epsilon()))"
   ]
  },
  {
   "cell_type": "markdown",
   "metadata": {
    "_cell_guid": "54a0e4a1-7bd3-4d7b-bd05-ad32993c042f",
    "_uuid": "d2ef8e75857caa51a441663c0b3f462da942f450"
   },
   "source": [
    "Preparing the model and displaying a summary to check the output layers and trainable parameters."
   ]
  },
  {
   "cell_type": "code",
   "execution_count": 35,
   "metadata": {
    "_cell_guid": "47b95dd3-3659-4133-8729-842ccb6e99a0",
    "_uuid": "f1da06cbc778164c297cc80df40c26f660b64d6c",
    "scrolled": true
   },
   "outputs": [
    {
     "name": "stdout",
     "output_type": "stream",
     "text": [
      "_________________________________________________________________\n",
      "Layer (type)                 Output Shape              Param #   \n",
      "=================================================================\n",
      "input_3 (InputLayer)         (None, 3197, 1)           0         \n",
      "_________________________________________________________________\n",
      "conv1d_3 (Conv1D)            (None, 797, 32)           352       \n",
      "_________________________________________________________________\n",
      "max_pooling1d_3 (MaxPooling1 (None, 397, 32)           0         \n",
      "_________________________________________________________________\n",
      "activation_3 (Activation)    (None, 397, 32)           0         \n",
      "_________________________________________________________________\n",
      "gru_3 (GRU)                  (None, 397, 192)          129600    \n",
      "_________________________________________________________________\n",
      "flatten_3 (Flatten)          (None, 76224)             0         \n",
      "_________________________________________________________________\n",
      "dropout_3 (Dropout)          (None, 76224)             0         \n",
      "_________________________________________________________________\n",
      "batch_normalization_3 (Batch (None, 76224)             304896    \n",
      "_________________________________________________________________\n",
      "dense_3 (Dense)              (None, 1)                 76225     \n",
      "=================================================================\n",
      "Total params: 511,073\n",
      "Trainable params: 358,625\n",
      "Non-trainable params: 152,448\n",
      "_________________________________________________________________\n"
     ]
    }
   ],
   "source": [
    "# Set a seed for reproducibility\n",
    "seed(42)\n",
    "set_random_seed(42)\n",
    "\n",
    "# prepare model\n",
    "gru_model = model(input_shape = (m, 1))\n",
    "opt = Adam(lr=0.0001, beta_1=0.9, beta_2=0.999, decay=0.01)\n",
    "gru_model.compile(loss='binary_crossentropy', optimizer=opt, metrics=['accuracy',f1_m,precision_m, recall_m])\n",
    "\n",
    "# check model shapes\n",
    "gru_model.summary()"
   ]
  },
  {
   "cell_type": "markdown",
   "metadata": {
    "_cell_guid": "24d13ede-401a-4408-9770-708de8bc564d",
    "_uuid": "8da6475a0aab5a2840d7ed154826593b16df8e8c"
   },
   "source": [
    "I'm increasing the positive example weight because of the unbalanced set.\n",
    "\n",
    "I also take a batch size of 128 so as to minimize the chance the minibatch has no positive example. Not sure if this is a good approach.\n",
    "\n",
    "4 epochs are enough for the model to give good results sometimes, one more epoch may be necessary.\n",
    "\n",
    "I'd like to have better metrics for this part."
   ]
  },
  {
   "cell_type": "code",
   "execution_count": 36,
   "metadata": {
    "_cell_guid": "2354cd62-195d-4198-a20f-1a44d086358a",
    "_uuid": "06ba39c49f6f0bd8f044a1340ca047a86dfcabfe"
   },
   "outputs": [
    {
     "name": "stdout",
     "output_type": "stream",
     "text": [
      "Train on 5087 samples, validate on 570 samples\n",
      "Epoch 1/30\n",
      "5087/5087 [==============================] - 16s 3ms/step - loss: 0.6986 - acc: 0.6652 - f1_m: 0.0203 - precision_m: 0.0106 - recall_m: 0.3187 - val_loss: 0.3172 - val_acc: 0.9596 - val_f1_m: 0.1382 - val_precision_m: 0.1123 - val_recall_m: 0.1796\n",
      "Epoch 2/30\n",
      "5087/5087 [==============================] - 15s 3ms/step - loss: 0.3726 - acc: 0.8657 - f1_m: 0.0814 - precision_m: 0.0454 - recall_m: 0.4907 - val_loss: 0.1694 - val_acc: 0.9965 - val_f1_m: 0.1996 - val_precision_m: 0.2246 - val_recall_m: 0.1796\n",
      "Epoch 3/30\n",
      "5087/5087 [==============================] - 16s 3ms/step - loss: 0.2602 - acc: 0.9269 - f1_m: 0.1343 - precision_m: 0.0830 - recall_m: 0.4737 - val_loss: 0.1167 - val_acc: 0.9982 - val_f1_m: 0.1996 - val_precision_m: 0.2246 - val_recall_m: 0.1796\n",
      "Epoch 4/30\n",
      "5087/5087 [==============================] - 15s 3ms/step - loss: 0.1963 - acc: 0.9599 - f1_m: 0.1917 - precision_m: 0.1298 - recall_m: 0.4320 - val_loss: 0.0918 - val_acc: 0.9965 - val_f1_m: 0.1684 - val_precision_m: 0.2246 - val_recall_m: 0.1347\n",
      "Epoch 5/30\n",
      "5087/5087 [==============================] - 15s 3ms/step - loss: 0.1611 - acc: 0.9685 - f1_m: 0.2511 - precision_m: 0.1719 - recall_m: 0.5471 - val_loss: 0.0733 - val_acc: 0.9965 - val_f1_m: 0.1684 - val_precision_m: 0.2246 - val_recall_m: 0.1347\n",
      "Epoch 6/30\n",
      "5087/5087 [==============================] - 15s 3ms/step - loss: 0.1270 - acc: 0.9831 - f1_m: 0.3495 - precision_m: 0.2754 - recall_m: 0.5471 - val_loss: 0.0615 - val_acc: 0.9965 - val_f1_m: 0.1684 - val_precision_m: 0.2246 - val_recall_m: 0.1347\n",
      "Epoch 7/30\n",
      "5087/5087 [==============================] - 16s 3ms/step - loss: 0.1086 - acc: 0.9876 - f1_m: 0.3925 - precision_m: 0.3181 - recall_m: 0.5974 - val_loss: 0.0549 - val_acc: 0.9947 - val_f1_m: 0.1283 - val_precision_m: 0.2246 - val_recall_m: 0.0898\n",
      "Epoch 8/30\n",
      "5087/5087 [==============================] - 15s 3ms/step - loss: 0.0941 - acc: 0.9882 - f1_m: 0.4184 - precision_m: 0.3559 - recall_m: 0.5639 - val_loss: 0.0498 - val_acc: 0.9947 - val_f1_m: 0.1283 - val_precision_m: 0.2246 - val_recall_m: 0.0898\n",
      "Epoch 9/30\n",
      "5087/5087 [==============================] - 15s 3ms/step - loss: 0.0854 - acc: 0.9912 - f1_m: 0.4816 - precision_m: 0.4243 - recall_m: 0.6165 - val_loss: 0.0424 - val_acc: 0.9947 - val_f1_m: 0.1283 - val_precision_m: 0.2246 - val_recall_m: 0.0898\n",
      "Epoch 10/30\n",
      "5087/5087 [==============================] - 14s 3ms/step - loss: 0.0756 - acc: 0.9941 - f1_m: 0.5552 - precision_m: 0.5032 - recall_m: 0.6794 - val_loss: 0.0395 - val_acc: 0.9947 - val_f1_m: 0.1283 - val_precision_m: 0.2246 - val_recall_m: 0.0898\n",
      "Epoch 11/30\n",
      "5087/5087 [==============================] - 15s 3ms/step - loss: 0.0714 - acc: 0.9935 - f1_m: 0.5166 - precision_m: 0.4527 - recall_m: 0.6477 - val_loss: 0.0356 - val_acc: 0.9947 - val_f1_m: 0.1283 - val_precision_m: 0.2246 - val_recall_m: 0.0898\n",
      "Epoch 12/30\n",
      "5087/5087 [==============================] - 15s 3ms/step - loss: 0.0663 - acc: 0.9945 - f1_m: 0.5234 - precision_m: 0.4865 - recall_m: 0.6207 - val_loss: 0.0354 - val_acc: 0.9947 - val_f1_m: 0.1283 - val_precision_m: 0.2246 - val_recall_m: 0.0898\n",
      "Epoch 13/30\n",
      "5087/5087 [==============================] - 15s 3ms/step - loss: 0.0610 - acc: 0.9965 - f1_m: 0.5857 - precision_m: 0.5639 - recall_m: 0.6351 - val_loss: 0.0336 - val_acc: 0.9947 - val_f1_m: 0.1283 - val_precision_m: 0.2246 - val_recall_m: 0.0898\n",
      "Epoch 14/30\n",
      "5087/5087 [==============================] - 15s 3ms/step - loss: 0.0579 - acc: 0.9959 - f1_m: 0.5714 - precision_m: 0.5597 - recall_m: 0.6100 - val_loss: 0.0311 - val_acc: 0.9947 - val_f1_m: 0.1283 - val_precision_m: 0.2246 - val_recall_m: 0.0898\n",
      "Epoch 15/30\n",
      "5087/5087 [==============================] - 15s 3ms/step - loss: 0.0581 - acc: 0.9965 - f1_m: 0.6201 - precision_m: 0.5806 - recall_m: 0.6981 - val_loss: 0.0289 - val_acc: 0.9947 - val_f1_m: 0.1283 - val_precision_m: 0.2246 - val_recall_m: 0.0898\n",
      "Epoch 16/30\n",
      "5087/5087 [==============================] - 15s 3ms/step - loss: 0.0519 - acc: 0.9957 - f1_m: 0.5804 - precision_m: 0.5578 - recall_m: 0.6416 - val_loss: 0.0281 - val_acc: 0.9947 - val_f1_m: 0.1283 - val_precision_m: 0.2246 - val_recall_m: 0.0898\n",
      "Epoch 17/30\n",
      "5087/5087 [==============================] - 15s 3ms/step - loss: 0.0474 - acc: 0.9959 - f1_m: 0.5286 - precision_m: 0.4947 - recall_m: 0.5974 - val_loss: 0.0266 - val_acc: 0.9947 - val_f1_m: 0.1283 - val_precision_m: 0.2246 - val_recall_m: 0.0898\n",
      "Epoch 18/30\n",
      "5087/5087 [==============================] - 15s 3ms/step - loss: 0.0467 - acc: 0.9972 - f1_m: 0.5284 - precision_m: 0.5030 - recall_m: 0.5722 - val_loss: 0.0254 - val_acc: 0.9947 - val_f1_m: 0.1283 - val_precision_m: 0.2246 - val_recall_m: 0.0898\n",
      "Epoch 19/30\n",
      "5087/5087 [==============================] - 14s 3ms/step - loss: 0.0451 - acc: 0.9974 - f1_m: 0.5399 - precision_m: 0.5156 - recall_m: 0.5911 - val_loss: 0.0248 - val_acc: 0.9947 - val_f1_m: 0.1283 - val_precision_m: 0.2246 - val_recall_m: 0.0898\n",
      "Epoch 20/30\n",
      "5087/5087 [==============================] - 15s 3ms/step - loss: 0.0423 - acc: 0.9978 - f1_m: 0.5754 - precision_m: 0.5492 - recall_m: 0.6226 - val_loss: 0.0238 - val_acc: 0.9947 - val_f1_m: 0.1283 - val_precision_m: 0.2246 - val_recall_m: 0.0898\n",
      "Epoch 21/30\n",
      "5087/5087 [==============================] - 15s 3ms/step - loss: 0.0389 - acc: 0.9980 - f1_m: 0.6343 - precision_m: 0.6016 - recall_m: 0.6981 - val_loss: 0.0236 - val_acc: 0.9947 - val_f1_m: 0.1283 - val_precision_m: 0.2246 - val_recall_m: 0.0898\n",
      "Epoch 22/30\n",
      "5087/5087 [==============================] - 15s 3ms/step - loss: 0.0376 - acc: 0.9974 - f1_m: 0.5259 - precision_m: 0.5030 - recall_m: 0.5722 - val_loss: 0.0226 - val_acc: 0.9947 - val_f1_m: 0.1283 - val_precision_m: 0.2246 - val_recall_m: 0.0898\n",
      "Epoch 23/30\n",
      "5087/5087 [==============================] - 15s 3ms/step - loss: 0.0393 - acc: 0.9978 - f1_m: 0.4925 - precision_m: 0.4881 - recall_m: 0.5158 - val_loss: 0.0213 - val_acc: 0.9947 - val_f1_m: 0.1283 - val_precision_m: 0.2246 - val_recall_m: 0.0898\n",
      "Epoch 24/30\n",
      "5087/5087 [==============================] - 15s 3ms/step - loss: 0.0342 - acc: 0.9980 - f1_m: 0.5612 - precision_m: 0.5425 - recall_m: 0.5974 - val_loss: 0.0216 - val_acc: 0.9947 - val_f1_m: 0.1283 - val_precision_m: 0.2246 - val_recall_m: 0.0898\n",
      "Epoch 25/30\n",
      "5087/5087 [==============================] - 15s 3ms/step - loss: 0.0359 - acc: 0.9982 - f1_m: 0.5318 - precision_m: 0.5200 - recall_m: 0.5536 - val_loss: 0.0213 - val_acc: 0.9947 - val_f1_m: 0.1283 - val_precision_m: 0.2246 - val_recall_m: 0.0898\n",
      "Epoch 26/30\n",
      "5087/5087 [==============================] - 15s 3ms/step - loss: 0.0310 - acc: 0.9984 - f1_m: 0.5116 - precision_m: 0.5032 - recall_m: 0.5284 - val_loss: 0.0211 - val_acc: 0.9947 - val_f1_m: 0.1283 - val_precision_m: 0.2246 - val_recall_m: 0.0898\n",
      "Epoch 27/30\n",
      "5087/5087 [==============================] - 16s 3ms/step - loss: 0.0318 - acc: 0.9986 - f1_m: 0.5443 - precision_m: 0.5295 - recall_m: 0.5722 - val_loss: 0.0203 - val_acc: 0.9930 - val_f1_m: 0.0749 - val_precision_m: 0.2246 - val_recall_m: 0.0449\n",
      "Epoch 28/30\n",
      "5087/5087 [==============================] - 15s 3ms/step - loss: 0.0335 - acc: 0.9984 - f1_m: 0.5694 - precision_m: 0.5597 - recall_m: 0.5924 - val_loss: 0.0199 - val_acc: 0.9947 - val_f1_m: 0.1283 - val_precision_m: 0.2246 - val_recall_m: 0.0898\n",
      "Epoch 29/30\n",
      "5087/5087 [==============================] - 15s 3ms/step - loss: 0.0310 - acc: 0.9984 - f1_m: 0.4865 - precision_m: 0.4781 - recall_m: 0.5032 - val_loss: 0.0197 - val_acc: 0.9930 - val_f1_m: 0.0749 - val_precision_m: 0.2246 - val_recall_m: 0.0449\n",
      "Epoch 30/30\n",
      "5087/5087 [==============================] - 15s 3ms/step - loss: 0.0310 - acc: 0.9986 - f1_m: 0.5737 - precision_m: 0.5578 - recall_m: 0.6039 - val_loss: 0.0188 - val_acc: 0.9947 - val_f1_m: 0.1283 - val_precision_m: 0.2246 - val_recall_m: 0.0898\n"
     ]
    },
    {
     "data": {
      "text/plain": [
       "<keras.callbacks.History at 0x7f9f906a5f28>"
      ]
     },
     "execution_count": 36,
     "metadata": {},
     "output_type": "execute_result"
    }
   ],
   "source": [
    "# raise positive examples weight because of skewed classes and fit the model\n",
    "class_weight = {0: 1., 1: 10}\n",
    "gru_model.fit(X_train, y_train, validation_data=(X_test, y_test), batch_size=128, epochs=30, shuffle=True, class_weight=class_weight)"
   ]
  },
  {
   "cell_type": "markdown",
   "metadata": {
    "_cell_guid": "2aebeb93-45cf-449a-b50f-58d6c3e85ba4",
    "_uuid": "34730eb7945b512230be6229a08d7c720105192a"
   },
   "source": [
    "Time to evaluate on the trainning set.\n",
    "\n",
    "Usually the AP=1.00, and the model makes no mistake which would indicate that the model overfits but we have the same kind of results with the test set."
   ]
  },
  {
   "cell_type": "code",
   "execution_count": 37,
   "metadata": {
    "_cell_guid": "54f42397-ed71-4e28-a7f8-5e7ae99ef0c8",
    "_uuid": "fc2b8fd0d395d98ac633d0fbfed6827a5a62abfe"
   },
   "outputs": [
    {
     "data": {
      "image/png": "[encoded data removed]",
      "text/plain": [
       "<Figure size 432x288 with 1 Axes>"
      ]
     },
     "metadata": {
      "needs_background": "light"
     },
     "output_type": "display_data"
    }
   ],
   "source": [
    "# Predict scores with trained model\n",
    "y_train_score = gru_model.predict(X_train).flatten()\n",
    "# Display precision_recall_curve for train set\n",
    "display_precision_recall_curve(y_train, y_train_score)"
   ]
  },
  {
   "cell_type": "markdown",
   "metadata": {
    "_cell_guid": "9961a22f-699f-41d5-bf03-83806586352d",
    "_uuid": "4f6c067ffe7700384e06f35859cc3f0772355c28"
   },
   "source": [
    "The test set is usually nearly as good as the train with AP>0.8 and can go up to 1.0\n",
    "\n",
    "I'd like to try it on some more data to see what I can do to improve it because we only have 5 positive examples in this set."
   ]
  },
  {
   "cell_type": "code",
   "execution_count": 38,
   "metadata": {
    "_cell_guid": "08efed2f-b266-4633-9a26-ae1688d7a048",
    "_uuid": "6638ac811f288514bb475b0f421b9dc4206fe3b7"
   },
   "outputs": [
    {
     "data": {
      "image/png": "[encoded data removed]",
      "text/plain": [
       "<Figure size 432x288 with 1 Axes>"
      ]
     },
     "metadata": {
      "needs_background": "light"
     },
     "output_type": "display_data"
    }
   ],
   "source": [
    "# Predict scores for test set\n",
    "y_test_score = gru_model.predict(X_test).flatten()\n",
    "# Display test set precision recall curve\n",
    "display_precision_recall_curve(y_test, y_test_score)"
   ]
  },
  {
   "cell_type": "markdown",
   "metadata": {
    "_cell_guid": "95aa1c13-7e35-4a97-b9af-471a019d1b6d",
    "_uuid": "5e2e066468c70014ee4b2b5942bf45ea5de99993"
   },
   "source": [
    "I look for a threshold that gives me the best score I can get for this model."
   ]
  },
  {
   "cell_type": "code",
   "execution_count": 39,
   "metadata": {},
   "outputs": [
    {
     "name": "stdout",
     "output_type": "stream",
     "text": [
      "Best Threshold 0.491, fscore 1.00000 , precision 1.00000 , recall 1.00000\n"
     ]
    },
    {
     "data": {
      "text/plain": [
       "[<matplotlib.lines.Line2D at 0x7f9f28704c88>]"
      ]
     },
     "execution_count": 39,
     "metadata": {},
     "output_type": "execute_result"
    },
    {
     "data": {
      "image/png": "[encoded data removed]",
      "text/plain": [
       "<Figure size 1152x720 with 1 Axes>"
      ]
     },
     "metadata": {
      "needs_background": "light"
     },
     "output_type": "display_data"
    }
   ],
   "source": [
    "# Compute f_scores and choose best threshold value\n",
    "f_scores_train = []\n",
    "for i in range(800):\n",
    "    f_scores_train.append(f1_score(y_train,np.where(y_train_score > i/1000,1,0)))\n",
    "imax_train = np.argmax(f_scores_train)\n",
    "y_max_train = np.where(y_train_score > imax_train/1000,1,0)\n",
    "\n",
    "threshold_train = np.median((np.where(f_scores_train == f_scores_train[imax_train])[0]))/1000\n",
    "print('Best Threshold {0:0.3f}, fscore {1:0.5f} , precision {2:0.5f} , recall {3:0.5f}'.format(imax_train/1000, f_scores_train[imax_train], precision_score(y_train, y_max_train), recall_score(y_train, y_max_train)))\n",
    "\n",
    "plt.figure(figsize=(16,10))\n",
    "plt.xlabel('Threshold')\n",
    "plt.ylabel('F1 Score')\n",
    "plt.xlim([0.0, threshold_train*2000])\n",
    "plt.ylim([0.0, 1.01])\n",
    "plt.plot(f_scores_train)"
   ]
  },
  {
   "cell_type": "code",
   "execution_count": 40,
   "metadata": {
    "_cell_guid": "48681a34-ce20-4dc8-9114-4199b2f21556",
    "_uuid": "c3a4ffef021143a25224769aa648bbc695853bcf"
   },
   "outputs": [
    {
     "name": "stdout",
     "output_type": "stream",
     "text": [
      "Best Threshold 0.130, fscore 1.00000 , precision 1.00000 , recall 1.00000\n"
     ]
    },
    {
     "data": {
      "text/plain": [
       "[<matplotlib.lines.Line2D at 0x7f9f286e2780>]"
      ]
     },
     "execution_count": 40,
     "metadata": {},
     "output_type": "execute_result"
    },
    {
     "data": {
      "image/png": "[encoded data removed]",
      "text/plain": [
       "<Figure size 1152x720 with 1 Axes>"
      ]
     },
     "metadata": {
      "needs_background": "light"
     },
     "output_type": "display_data"
    }
   ],
   "source": [
    "# Compute f_scores and choose best threshold value\n",
    "f_scores = []\n",
    "for i in range(800):\n",
    "    f_scores.append(f1_score(y_test,np.where(y_test_score > i/1000,1,0)))\n",
    "imax = np.argmax(f_scores)\n",
    "y_max = np.where(y_test_score > imax/1000,1,0)\n",
    "\n",
    "threshold = np.median((np.where(f_scores == f_scores[imax])[0]))/1000\n",
    "print('Best Threshold {0:0.3f}, fscore {1:0.5f} , precision {2:0.5f} , recall {3:0.5f}'.format(imax/1000, f_scores[imax], precision_score(y_test, y_max), recall_score(y_test, y_max)))\n",
    "\n",
    "plt.figure(figsize=(16,10))\n",
    "plt.xlabel('Threshold')\n",
    "plt.ylabel('F1 Score')\n",
    "plt.xlim([0.0, threshold*2000])\n",
    "plt.ylim([0.0, 1.01])\n",
    "plt.plot(f_scores)"
   ]
  },
  {
   "cell_type": "markdown",
   "metadata": {
    "_cell_guid": "0ee11d3a-3b7d-42ec-b5fb-a18f02d0854c",
    "_uuid": "9986350b78d87ebc528b2855408f4a601de06983"
   },
   "source": [
    "This will show which of the positives examples where correctly identified and which were not.\n",
    "Most of the times, one sample is missing or they are all present but there is an extra false positive."
   ]
  },
  {
   "cell_type": "code",
   "execution_count": 41,
   "metadata": {
    "_cell_guid": "8d504085-4390-4a6c-8361-07ed0651fa1b",
    "_uuid": "26ca280cf25472167f3d61590241b908e75fe41a"
   },
   "outputs": [
    {
     "name": "stdout",
     "output_type": "stream",
     "text": [
      "F1_Score 0.571429 at threshold 0.491000\n",
      "\n",
      "Predicted ExoPlanet samples [1 3]\n",
      "Actual ExoPlanet Samples [0 1 2 3 4]\n",
      "0.3260732\n"
     ]
    }
   ],
   "source": [
    "# Look at predicted positive labels:\n",
    "threshold_train=imax_train/1000\n",
    "y_hat = np.where(y_test_score>=threshold_train,1,0)\n",
    "print(\"F1_Score {0:4f} at threshold {1:4f}\\n\".format(f1_score(y_test, y_hat), threshold_train))\n",
    "\n",
    "print(\"Predicted ExoPlanet samples\", np.where(y_test_score>=threshold_train)[0])\n",
    "print(\"Actual ExoPlanet Samples\", np.where(y_test==1)[0])\n",
    "print(y_test_score[0])\n",
    "\n"
   ]
  },
  {
   "cell_type": "code",
   "execution_count": 47,
   "metadata": {},
   "outputs": [
    {
     "ename": "AttributeError",
     "evalue": "'Model' object has no attribute 'predict_classes'",
     "output_type": "error",
     "traceback": [
      "\u001b[0;31m---------------------------------------------------------------------------\u001b[0m",
      "\u001b[0;31mAttributeError\u001b[0m                            Traceback (most recent call last)",
      "\u001b[0;32m<ipython-input-47-9d965398e5e5>\u001b[0m in \u001b[0;36m<module>\u001b[0;34m\u001b[0m\n\u001b[1;32m      5\u001b[0m \u001b[0;31m#y_pred = np.where(y_hat > threshold_train,1.,0.)\u001b[0m\u001b[0;34m\u001b[0m\u001b[0;34m\u001b[0m\u001b[0;34m\u001b[0m\u001b[0m\n\u001b[1;32m      6\u001b[0m \u001b[0;34m\u001b[0m\u001b[0m\n\u001b[0;32m----> 7\u001b[0;31m \u001b[0my_pred\u001b[0m \u001b[0;34m=\u001b[0m \u001b[0mgru_model\u001b[0m\u001b[0;34m.\u001b[0m\u001b[0mpredict_classes\u001b[0m\u001b[0;34m(\u001b[0m\u001b[0mX_test\u001b[0m\u001b[0;34m)\u001b[0m\u001b[0;34m\u001b[0m\u001b[0;34m\u001b[0m\u001b[0m\n\u001b[0m\u001b[1;32m      8\u001b[0m \u001b[0;34m\u001b[0m\u001b[0m\n\u001b[1;32m      9\u001b[0m \u001b[0;34m\u001b[0m\u001b[0m\n",
      "\u001b[0;31mAttributeError\u001b[0m: 'Model' object has no attribute 'predict_classes'"
     ]
    }
   ],
   "source": [
    "#Using threshold as 0.9\n",
    "from sklearn.metrics import precision_score, recall_score, confusion_matrix, classification_report\n",
    "from sklearn.metrics import accuracy_score, f1_score, cohen_kappa_score, roc_auc_score, roc_curve\n",
    "y_hat = gru_model.predict(X_test)[:,0]\n",
    "y_pred = np.where(y_hat > threshold_train,1.,0.)\n",
    "\n",
    "#y_pred = gru_model.predict_classes(X_test)\n",
    "\n",
    "\n",
    "# accuracy: (tp + tn) / (p + n)\n",
    "print('Accuracy:', accuracy_score(y_test, y_pred))\n",
    "# f1: 2 tp / (2 tp + fp + fn)\n",
    "print('F1 score:', f1_score(y_test, y_pred))\n",
    "# recall: tp / (tp + fn)\n",
    "print('Recall:', recall_score(y_test, y_pred))\n",
    "# precision tp / (tp + fp)\n",
    "print('Precision:', precision_score(y_test, y_pred))\n",
    "#cohen's kappa\n",
    "print('Cohens Kappa :', cohen_kappa_score(y_test, y_pred))\n",
    "#AUC score\n",
    "print('ROC AUC Score:', roc_auc_score(y_test, y_pred))\n",
    "#Classification report\n",
    "print('\\n clasification report:\\n', classification_report(y_test,y_pred))\n",
    "#Confusion matrix\n",
    "print('\\n confussion matrix:\\n',confusion_matrix(y_test, y_pred))"
   ]
  },
  {
   "cell_type": "code",
   "execution_count": 43,
   "metadata": {},
   "outputs": [
    {
     "name": "stdout",
     "output_type": "stream",
     "text": [
      "Accuracy: 0.9996068409671712\n",
      "F1 score: 0.9722222222222222\n",
      "Recall: 0.9459459459459459\n",
      "Precision: 1.0\n",
      "Cohens Kappa : 0.9720243954750684\n",
      "ROC AUC Score: 0.972972972972973\n",
      "\n",
      " clasification report:\n",
      "               precision    recall  f1-score   support\n",
      "\n",
      "           0       1.00      1.00      1.00      5050\n",
      "           1       1.00      0.95      0.97        37\n",
      "\n",
      "    accuracy                           1.00      5087\n",
      "   macro avg       1.00      0.97      0.99      5087\n",
      "weighted avg       1.00      1.00      1.00      5087\n",
      "\n",
      "\n",
      " confussion matrix:\n",
      " [[5050    0]\n",
      " [   2   35]]\n"
     ]
    }
   ],
   "source": [
    "#y_train_pred = model_two.predict_classes(x_train)[:,0]\n",
    "y_train_hat = gru_model.predict(X_train)[:,0]\n",
    "y_train_pred = np.where(y_train_hat > 0.9,1.,0.)\n",
    "print('Accuracy:', accuracy_score(y_train, y_train_pred))\n",
    "print('F1 score:', f1_score(y_train, y_train_pred))\n",
    "print('Recall:', recall_score(y_train, y_train_pred))\n",
    "print('Precision:', precision_score(y_train, y_train_pred))\n",
    "print('Cohens Kappa :', cohen_kappa_score(y_train, y_train_pred))\n",
    "print('ROC AUC Score:', roc_auc_score(y_train, y_train_pred))\n",
    "print('\\n clasification report:\\n', classification_report(y_train, y_train_pred))\n",
    "print('\\n confussion matrix:\\n',confusion_matrix(y_train, y_train_pred))"
   ]
  },
  {
   "cell_type": "code",
   "execution_count": null,
   "metadata": {},
   "outputs": [],
   "source": []
  }
 ],
 "metadata": {
  "kernelspec": {
   "display_name": "Python 3",
   "language": "python",
   "name": "python3"
  },
  "language_info": {
   "codemirror_mode": {
    "name": "ipython",
    "version": 3
   },
   "file_extension": ".py",
   "mimetype": "text/x-python",
   "name": "python",
   "nbconvert_exporter": "python",
   "pygments_lexer": "ipython3",
   "version": "3.6.8"
  }
 },
 "nbformat": 4,
 "nbformat_minor": 1
}
