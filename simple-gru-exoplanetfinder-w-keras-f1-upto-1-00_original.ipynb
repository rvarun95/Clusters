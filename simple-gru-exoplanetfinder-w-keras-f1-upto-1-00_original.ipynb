{
 "cells": [
  {
   "cell_type": "markdown",
   "metadata": {
    "_cell_guid": "8857b400-f026-491d-b37f-db42687e9959",
    "_uuid": "97c60e67987e531ad257ab0159fb7ea490911ac2"
   },
   "source": [
    "**A 1D convolutional net with one GRU Layer in Keras.**\n",
    "\n",
    "The data is directly fed into the net where it passes Conv + MaxPool to detect features, then it goes into a GRU + Dropout then activation.\n",
    "\n",
    "It trains fast (less than 5 minutes on my GTX 970) and usually gets an F1 Score > 0.8 and can go up to 1.00 but i'd like to test it on more test data to check if it overfits.\n",
    "\n",
    "Any comments appreciated."
   ]
  },
  {
   "cell_type": "code",
   "execution_count": 1,
   "metadata": {
    "_cell_guid": "510df66f-9618-4a1c-ba78-708292368586",
    "_uuid": "2bcc670057ed1140aa96a887fb7b1af7b232bc0e"
   },
   "outputs": [
    {
     "name": "stderr",
     "output_type": "stream",
     "text": [
      "Using TensorFlow backend.\n"
     ]
    }
   ],
   "source": [
    "import numpy as np\n",
    "import pandas as pd\n",
    "from numpy.random import seed\n",
    "from tensorflow import set_random_seed\n",
    "\n",
    "from sklearn.metrics import precision_recall_curve, average_precision_score, f1_score, precision_score, recall_score\n",
    "\n",
    "from keras.models import Model\n",
    "from keras.layers import Dense, Activation, Dropout, Input, Conv1D, GRU, Flatten, MaxPooling1D, BatchNormalization\n",
    "from keras.optimizers import Adam\n",
    "from keras import backend as K\n",
    "from keras.callbacks import ModelCheckpoint\n",
    "\n",
    "import matplotlib.pyplot as plt\n",
    "%matplotlib inline  "
   ]
  },
  {
   "cell_type": "markdown",
   "metadata": {
    "_cell_guid": "9e91f308-4ac4-4c33-9865-e3086e1531bd",
    "_uuid": "87e021abefcaf214115f9cc0b4245b620c1fa199"
   },
   "source": [
    "This function is used to visualize if the model make good predictions on the skewed class."
   ]
  },
  {
   "cell_type": "code",
   "execution_count": 2,
   "metadata": {
    "_cell_guid": "53942453-1262-44cc-939a-d5436365f2f5",
    "_uuid": "02e62c7ff9ea0dcebb0cc9388a00d01ad553a67a"
   },
   "outputs": [],
   "source": [
    "# Display test set precision recall curve\n",
    "def display_precision_recall_curve(reference, score):\n",
    "    \"\"\"\n",
    "    Function to display the precision recall for a reference set.\n",
    "    \n",
    "    Arguments:\n",
    "    reference -- the reference labels given for the set\n",
    "    score -- the score computed \n",
    "\n",
    "    Returns:\n",
    "    null\n",
    "    \"\"\"\n",
    "    average_precision = average_precision_score(reference, score)\n",
    "    precision, recall, _ = precision_recall_curve(reference, score)\n",
    "\n",
    "    plt.step(recall, precision, color='b', alpha=0.2, where='post')\n",
    "    plt.fill_between(recall, precision, step='post', alpha=0.2, color='b')\n",
    "    \n",
    "    plt.xlabel('Recall')\n",
    "    plt.ylabel('Precision')\n",
    "    plt.ylim([0.0, 1.05])\n",
    "    plt.xlim([0.0, 1.0])\n",
    "    plt.title('2-class Precision-Recall curve: AP={0:0.2f}'.format(average_precision))"
   ]
  },
  {
   "cell_type": "code",
   "execution_count": 3,
   "metadata": {},
   "outputs": [],
   "source": [
    "from keras import backend as K\n",
    "def recall_m(y_true, y_pred):\n",
    "        true_positives = K.sum(K.round(K.clip(y_true * y_pred, 0, 1)))\n",
    "        possible_positives = K.sum(K.round(K.clip(y_true, 0, 1)))\n",
    "        recall = true_positives / (possible_positives + K.epsilon())\n",
    "        return recall\n",
    "\n",
    "def precision_m(y_true, y_pred):\n",
    "        true_positives = K.sum(K.round(K.clip(y_true * y_pred, 0, 1)))\n",
    "        predicted_positives = K.sum(K.round(K.clip(y_pred, 0, 1)))\n",
    "        precision = true_positives / (predicted_positives + K.epsilon())\n",
    "        return precision\n",
    "\n",
    "def f1_m(y_true, y_pred):\n",
    "    precision = precision_m(y_true, y_pred)\n",
    "    recall = recall_m(y_true, y_pred)\n",
    "    return 2*((precision*recall)/(precision+recall+K.epsilon()))"
   ]
  },
  {
   "cell_type": "markdown",
   "metadata": {
    "_cell_guid": "3c97f132-5e96-4779-bcd5-5b76f668809d",
    "_uuid": "ec9f659490db11607a9afdc7a2ee7717d1426506"
   },
   "source": [
    "The simple model we will be using."
   ]
  },
  {
   "cell_type": "code",
   "execution_count": 4,
   "metadata": {
    "_cell_guid": "87726cda-195f-46d0-a855-d50f5417d70d",
    "_uuid": "7eeae82cc77cff62679636987219def5db63ceae"
   },
   "outputs": [],
   "source": [
    "def model(input_shape):\n",
    "    \"\"\"\n",
    "    Function creating the Exo_detector model.\n",
    "    \n",
    "    Arguments:\n",
    "    input_shape -- shape of the input\n",
    "\n",
    "    Returns:\n",
    "    model -- a model instance in Keras\n",
    "    \"\"\"\n",
    "    X_input = Input(shape = input_shape)\n",
    "    \n",
    "    # Step 1: CONV + MaxPool layer to detect patterns\n",
    "    X = Conv1D(32, kernel_size=10, strides=4)(X_input)\n",
    "    X = MaxPooling1D(pool_size=4, strides=2)(X)\n",
    "    X = Activation('relu')(X)\n",
    "    \n",
    "    # Step 2: GRU Layer\n",
    "    X = GRU(192,return_sequences=True)(X)\n",
    "    X = Flatten()(X)\n",
    "    \n",
    "    # Final sigmoid activation layer\n",
    "    X = Dropout(0.5)(X)                                 \n",
    "    X = BatchNormalization()(X)    \n",
    "    X = Dense(1, activation=\"sigmoid\")(X)\n",
    "\n",
    "    model = Model(inputs= X_input, outputs = X)\n",
    "    \n",
    "    return model  "
   ]
  },
  {
   "cell_type": "markdown",
   "metadata": {
    "_cell_guid": "3c52581c-2526-4aad-a9a3-f009700ae022",
    "_uuid": "c671b01c095092750a6d367535728be5634951b3"
   },
   "source": [
    "Importing the train then the test set.\n",
    "\n",
    "Note that we have to reshape X to 3D (n, m , 1) because it is required by the first Conv1D Layer."
   ]
  },
  {
   "cell_type": "code",
   "execution_count": 5,
   "metadata": {
    "_cell_guid": "ed1c2662-df59-49f0-8b76-f89b83ae38fd",
    "_kg_hide-input": false,
    "_uuid": "bfd7c889445789693a3823811c17d75885f0180c"
   },
   "outputs": [
    {
     "name": "stdout",
     "output_type": "stream",
     "text": [
      "Train set: \n",
      "Number of examples=5087\n",
      "Number of readings=3197\n"
     ]
    }
   ],
   "source": [
    "# get traincsv files\n",
    "train = pd.read_csv(\"./exoTrain.csv\")\n",
    "nx, m = train.shape\n",
    "m -= 1\n",
    "\n",
    "y_train = train['LABEL'].values\n",
    "y_train -=1\n",
    "\n",
    "X_train = train.drop('LABEL', axis=1).values.reshape(nx, m, 1)\n",
    "\n",
    "print(\"Train set: \\nNumber of examples={0}\\nNumber of readings={1}\".format(nx, m))"
   ]
  },
  {
   "cell_type": "code",
   "execution_count": 6,
   "metadata": {},
   "outputs": [
    {
     "data": {
      "text/plain": [
       "(array([0, 1]), array([5050,   37]))"
      ]
     },
     "execution_count": 6,
     "metadata": {},
     "output_type": "execute_result"
    }
   ],
   "source": [
    "np.unique(y_train, return_counts=True)"
   ]
  },
  {
   "cell_type": "code",
   "execution_count": 7,
   "metadata": {
    "_cell_guid": "6677af46-3470-4b2a-bc1a-f6fca8463146",
    "_uuid": "03cb3879d49f2b83e576bd0acbbe340d3c5f2008"
   },
   "outputs": [
    {
     "name": "stdout",
     "output_type": "stream",
     "text": [
      "Train set: \n",
      "Number of examples=570\n",
      "Number of readings=3197\n"
     ]
    }
   ],
   "source": [
    "# get testcsv files\n",
    "test = pd.read_csv(\"./exoTest.csv\")\n",
    "ny, my = test.shape\n",
    "my -= 1\n",
    "\n",
    "y_test = test['LABEL'].values\n",
    "y_test -= 1\n",
    "\n",
    "X_test = test.drop('LABEL',axis=1).values.reshape(ny, m, 1)\n",
    "\n",
    "assert m == my, \"Error: train and test set have not the same number of timesteps\"\n",
    "\n",
    "print(\"Train set: \\nNumber of examples={0}\\nNumber of readings={1}\".format(ny, my))"
   ]
  },
  {
   "cell_type": "markdown",
   "metadata": {
    "_cell_guid": "54a0e4a1-7bd3-4d7b-bd05-ad32993c042f",
    "_uuid": "d2ef8e75857caa51a441663c0b3f462da942f450"
   },
   "source": [
    "Preparing the model and displaying a summary to check the output layers and trainable parameters."
   ]
  },
  {
   "cell_type": "code",
   "execution_count": 8,
   "metadata": {
    "_cell_guid": "47b95dd3-3659-4133-8729-842ccb6e99a0",
    "_uuid": "f1da06cbc778164c297cc80df40c26f660b64d6c",
    "scrolled": true
   },
   "outputs": [
    {
     "name": "stdout",
     "output_type": "stream",
     "text": [
      "WARNING:tensorflow:From /conda/envs/rapids/lib/python3.6/site-packages/tensorflow/python/framework/op_def_library.py:263: colocate_with (from tensorflow.python.framework.ops) is deprecated and will be removed in a future version.\n",
      "Instructions for updating:\n",
      "Colocations handled automatically by placer.\n",
      "WARNING:tensorflow:From /conda/envs/rapids/lib/python3.6/site-packages/keras/backend/tensorflow_backend.py:3445: calling dropout (from tensorflow.python.ops.nn_ops) with keep_prob is deprecated and will be removed in a future version.\n",
      "Instructions for updating:\n",
      "Please use `rate` instead of `keep_prob`. Rate should be set to `rate = 1 - keep_prob`.\n",
      "_________________________________________________________________\n",
      "Layer (type)                 Output Shape              Param #   \n",
      "=================================================================\n",
      "input_1 (InputLayer)         (None, 3197, 1)           0         \n",
      "_________________________________________________________________\n",
      "conv1d_1 (Conv1D)            (None, 797, 32)           352       \n",
      "_________________________________________________________________\n",
      "max_pooling1d_1 (MaxPooling1 (None, 397, 32)           0         \n",
      "_________________________________________________________________\n",
      "activation_1 (Activation)    (None, 397, 32)           0         \n",
      "_________________________________________________________________\n",
      "gru_1 (GRU)                  (None, 397, 192)          129600    \n",
      "_________________________________________________________________\n",
      "flatten_1 (Flatten)          (None, 76224)             0         \n",
      "_________________________________________________________________\n",
      "dropout_1 (Dropout)          (None, 76224)             0         \n",
      "_________________________________________________________________\n",
      "batch_normalization_1 (Batch (None, 76224)             304896    \n",
      "_________________________________________________________________\n",
      "dense_1 (Dense)              (None, 1)                 76225     \n",
      "=================================================================\n",
      "Total params: 511,073\n",
      "Trainable params: 358,625\n",
      "Non-trainable params: 152,448\n",
      "_________________________________________________________________\n"
     ]
    }
   ],
   "source": [
    "# Set a seed for reproducibility\n",
    "seed(42)\n",
    "set_random_seed(42)\n",
    "\n",
    "# prepare model\n",
    "gru_model = model(input_shape = (m, 1))\n",
    "opt = Adam(lr=0.0001, beta_1=0.9, beta_2=0.999, decay=0.01)\n",
    "gru_model.compile(loss='binary_crossentropy', optimizer=opt, metrics=[recall_m,f1_m,precision_m, 'accuracy'])\n",
    "\n",
    "# check model shapes\n",
    "gru_model.summary()"
   ]
  },
  {
   "cell_type": "markdown",
   "metadata": {
    "_cell_guid": "24d13ede-401a-4408-9770-708de8bc564d",
    "_uuid": "8da6475a0aab5a2840d7ed154826593b16df8e8c"
   },
   "source": [
    "I'm increasing the positive example weight because of the unbalanced set.\n",
    "\n",
    "I also take a batch size of 128 so as to minimize the chance the minibatch has no positive example. Not sure if this is a good approach.\n",
    "\n",
    "4 epochs are enough for the model to give good results sometimes, one more epoch may be necessary.\n",
    "\n",
    "I'd like to have better metrics for this part."
   ]
  },
  {
   "cell_type": "code",
   "execution_count": 9,
   "metadata": {
    "_cell_guid": "2354cd62-195d-4198-a20f-1a44d086358a",
    "_uuid": "06ba39c49f6f0bd8f044a1340ca047a86dfcabfe"
   },
   "outputs": [
    {
     "name": "stdout",
     "output_type": "stream",
     "text": [
      "WARNING:tensorflow:From /conda/envs/rapids/lib/python3.6/site-packages/tensorflow/python/ops/math_ops.py:3066: to_int32 (from tensorflow.python.ops.math_ops) is deprecated and will be removed in a future version.\n",
      "Instructions for updating:\n",
      "Use tf.cast instead.\n",
      "Train on 5087 samples, validate on 570 samples\n",
      "Epoch 1/2\n",
      "5087/5087 [==============================] - 18s 4ms/step - loss: 1.3346 - recall_m: 0.4697 - f1_m: 0.0261 - precision_m: 0.0135 - acc: 0.5677 - val_loss: 0.5929 - val_recall_m: 0.2246 - val_f1_m: 0.0522 - val_precision_m: 0.0295 - val_acc: 0.7439\n",
      "Epoch 2/2\n",
      "5087/5087 [==============================] - 15s 3ms/step - loss: 0.7954 - recall_m: 0.5787 - f1_m: 0.0439 - precision_m: 0.0229 - acc: 0.7012 - val_loss: 0.3574 - val_recall_m: 0.1796 - val_f1_m: 0.0749 - val_precision_m: 0.0473 - val_acc: 0.8789\n"
     ]
    },
    {
     "data": {
      "text/plain": [
       "<keras.callbacks.History at 0x7f53861f8dd8>"
      ]
     },
     "execution_count": 9,
     "metadata": {},
     "output_type": "execute_result"
    }
   ],
   "source": [
    "# raise positive examples weight because of skewed classes and fit the model\n",
    "class_weight = {0: 1., 1: 140}\n",
    "gru_model.fit(X_train, y_train, validation_data=(X_test, y_test), batch_size=128, epochs=2, shuffle=True, class_weight=class_weight)"
   ]
  },
  {
   "cell_type": "code",
   "execution_count": 10,
   "metadata": {},
   "outputs": [
    {
     "name": "stdout",
     "output_type": "stream",
     "text": [
      "Train on 5087 samples, validate on 570 samples\n",
      "Epoch 1/4\n",
      "5087/5087 [==============================] - 15s 3ms/step - loss: 0.5573 - recall_m: 0.5787 - f1_m: 0.0627 - precision_m: 0.0336 - acc: 0.8032 - val_loss: 0.2438 - val_recall_m: 0.2246 - val_f1_m: 0.1404 - val_precision_m: 0.1021 - val_acc: 0.9561\n",
      "Epoch 2/4\n",
      "5087/5087 [==============================] - 15s 3ms/step - loss: 0.4971 - recall_m: 0.5536 - f1_m: 0.0847 - precision_m: 0.0467 - acc: 0.8575 - val_loss: 0.1967 - val_recall_m: 0.2246 - val_f1_m: 0.1604 - val_precision_m: 0.1248 - val_acc: 0.9596\n",
      "Epoch 3/4\n",
      "5087/5087 [==============================] - 15s 3ms/step - loss: 0.4010 - recall_m: 0.6794 - f1_m: 0.0971 - precision_m: 0.0530 - acc: 0.8701 - val_loss: 0.1572 - val_recall_m: 0.2246 - val_f1_m: 0.1871 - val_precision_m: 0.1604 - val_acc: 0.9719\n",
      "Epoch 4/4\n",
      "5087/5087 [==============================] - 15s 3ms/step - loss: 0.3567 - recall_m: 0.5284 - f1_m: 0.1159 - precision_m: 0.0678 - acc: 0.8986 - val_loss: 0.1336 - val_recall_m: 0.2246 - val_f1_m: 0.1871 - val_precision_m: 0.1604 - val_acc: 0.9860\n"
     ]
    },
    {
     "data": {
      "text/plain": [
       "<keras.callbacks.History at 0x7f53b41f2a58>"
      ]
     },
     "execution_count": 10,
     "metadata": {},
     "output_type": "execute_result"
    }
   ],
   "source": [
    "gru_model.fit(X_train, y_train, validation_data=(X_test, y_test), batch_size=128, epochs=4, shuffle=True, class_weight=class_weight)"
   ]
  },
  {
   "cell_type": "markdown",
   "metadata": {
    "_cell_guid": "2aebeb93-45cf-449a-b50f-58d6c3e85ba4",
    "_uuid": "34730eb7945b512230be6229a08d7c720105192a"
   },
   "source": [
    "Time to evaluate on the trainning set.\n",
    "\n",
    "Usually the AP=1.00, and the model makes no mistake which would indicate that the model overfits but we have the same kind of results with the test set."
   ]
  },
  {
   "cell_type": "code",
   "execution_count": 11,
   "metadata": {
    "_cell_guid": "54f42397-ed71-4e28-a7f8-5e7ae99ef0c8",
    "_uuid": "fc2b8fd0d395d98ac633d0fbfed6827a5a62abfe"
   },
   "outputs": [
    {
     "data": {
      "image/png": "[encoded data removed]",
      "text/plain": [
       "<Figure size 432x288 with 1 Axes>"
      ]
     },
     "metadata": {
      "needs_background": "light"
     },
     "output_type": "display_data"
    }
   ],
   "source": [
    "# Predict scores with trained model\n",
    "y_train_score = gru_model.predict(X_train).flatten()\n",
    "# Display precision_recall_curve for train set\n",
    "display_precision_recall_curve(y_train, y_train_score)"
   ]
  },
  {
   "cell_type": "markdown",
   "metadata": {
    "_cell_guid": "9961a22f-699f-41d5-bf03-83806586352d",
    "_uuid": "4f6c067ffe7700384e06f35859cc3f0772355c28"
   },
   "source": [
    "The test set is usually nearly as good as the train with AP>0.8 and can go up to 1.0\n",
    "\n",
    "I'd like to try it on some more data to see what I can do to improve it because we only have 5 positive examples in this set."
   ]
  },
  {
   "cell_type": "code",
   "execution_count": 12,
   "metadata": {
    "_cell_guid": "08efed2f-b266-4633-9a26-ae1688d7a048",
    "_uuid": "6638ac811f288514bb475b0f421b9dc4206fe3b7"
   },
   "outputs": [
    {
     "data": {
      "image/png": "[encoded data removed]",
      "text/plain": [
       "<Figure size 432x288 with 1 Axes>"
      ]
     },
     "metadata": {
      "needs_background": "light"
     },
     "output_type": "display_data"
    }
   ],
   "source": [
    "# Predict scores for test set\n",
    "y_test_score = gru_model.predict(X_test).flatten()\n",
    "# Display test set precision recall curve\n",
    "display_precision_recall_curve(y_test, y_test_score)"
   ]
  },
  {
   "cell_type": "markdown",
   "metadata": {
    "_cell_guid": "95aa1c13-7e35-4a97-b9af-471a019d1b6d",
    "_uuid": "5e2e066468c70014ee4b2b5942bf45ea5de99993"
   },
   "source": [
    "I look for a threshold that gives me the best score I can get for this model."
   ]
  },
  {
   "cell_type": "code",
   "execution_count": 13,
   "metadata": {
    "_cell_guid": "48681a34-ce20-4dc8-9114-4199b2f21556",
    "_uuid": "c3a4ffef021143a25224769aa648bbc695853bcf"
   },
   "outputs": [
    {
     "name": "stdout",
     "output_type": "stream",
     "text": [
      "Best Threshold 0.797, fscore 0.81319 , precision 0.68519 , recall 1.00000\n"
     ]
    },
    {
     "data": {
      "text/plain": [
       "[<matplotlib.lines.Line2D at 0x7f52c040f390>]"
      ]
     },
     "execution_count": 13,
     "metadata": {},
     "output_type": "execute_result"
    },
    {
     "data": {
      "image/png": "[encoded data removed]",
      "text/plain": [
       "<Figure size 1152x720 with 1 Axes>"
      ]
     },
     "metadata": {
      "needs_background": "light"
     },
     "output_type": "display_data"
    }
   ],
   "source": [
    "# Compute f_scores and choose best threshold value\n",
    "f_scores_train = []\n",
    "for i in range(800):\n",
    "    f_scores_train.append(f1_score(y_train,np.where(y_train_score > i/1000,1,0)))\n",
    "imax_train = np.argmax(f_scores_train)\n",
    "y_max_train = np.where(y_train_score > imax_train/1000,1,0)\n",
    "\n",
    "threshold_train = np.median((np.where(f_scores_train == f_scores_train[imax_train])[0]))/1000\n",
    "print('Best Threshold {0:0.3f}, fscore {1:0.5f} , precision {2:0.5f} , recall {3:0.5f}'.format(imax_train/1000, f_scores_train[imax_train], precision_score(y_train, y_max_train), recall_score(y_train, y_max_train)))\n",
    "\n",
    "plt.figure(figsize=(16,10))\n",
    "plt.xlabel('Threshold')\n",
    "plt.ylabel('F1 Score')\n",
    "plt.xlim([0.0, threshold_train*2000])\n",
    "plt.ylim([0.0, 1.01])\n",
    "plt.plot(f_scores_train)"
   ]
  },
  {
   "cell_type": "code",
   "execution_count": 14,
   "metadata": {},
   "outputs": [
    {
     "name": "stdout",
     "output_type": "stream",
     "text": [
      "Best Threshold 0.636, fscore 0.88889 , precision 1.00000 , recall 0.80000\n"
     ]
    },
    {
     "data": {
      "text/plain": [
       "[<matplotlib.lines.Line2D at 0x7f52c0370358>]"
      ]
     },
     "execution_count": 14,
     "metadata": {},
     "output_type": "execute_result"
    },
    {
     "data": {
      "image/png": "[encoded data removed]",
      "text/plain": [
       "<Figure size 1152x720 with 1 Axes>"
      ]
     },
     "metadata": {
      "needs_background": "light"
     },
     "output_type": "display_data"
    }
   ],
   "source": [
    "# Compute f_scores and choose best threshold value\n",
    "f_scores = []\n",
    "for i in range(800):\n",
    "    f_scores.append(f1_score(y_test,np.where(y_test_score > i/1000,1,0)))\n",
    "imax = np.argmax(f_scores)\n",
    "y_max = np.where(y_test_score > imax/1000,1,0)\n",
    "\n",
    "threshold = np.median((np.where(f_scores == f_scores[imax])[0]))/1000\n",
    "print('Best Threshold {0:0.3f}, fscore {1:0.5f} , precision {2:0.5f} , recall {3:0.5f}'.format(imax/1000, f_scores[imax], precision_score(y_test, y_max), recall_score(y_test, y_max)))\n",
    "\n",
    "plt.figure(figsize=(16,10))\n",
    "plt.xlabel('Threshold')\n",
    "plt.ylabel('F1 Score')\n",
    "plt.xlim([0.0, threshold*2000])\n",
    "plt.ylim([0.0, 1.01])\n",
    "plt.plot(f_scores)"
   ]
  },
  {
   "cell_type": "markdown",
   "metadata": {
    "_cell_guid": "0ee11d3a-3b7d-42ec-b5fb-a18f02d0854c",
    "_uuid": "9986350b78d87ebc528b2855408f4a601de06983"
   },
   "source": [
    "This will show which of the positives examples where correctly identified and which were not.\n",
    "Most of the times, one sample is missing or they are all present but there is an extra false positive."
   ]
  },
  {
   "cell_type": "code",
   "execution_count": 15,
   "metadata": {
    "_cell_guid": "8d504085-4390-4a6c-8361-07ed0651fa1b",
    "_uuid": "26ca280cf25472167f3d61590241b908e75fe41a"
   },
   "outputs": [
    {
     "name": "stdout",
     "output_type": "stream",
     "text": [
      "F1_Score 0.571429 at threshold 0.797000\n",
      "\n",
      "Predicted ExoPlanet samples [1 4]\n",
      "Actual ExoPlanet Samples [0 1 2 3 4]\n",
      "0.56385255\n"
     ]
    }
   ],
   "source": [
    "# Look at predicted positive labels:\n",
    "threshold_train=imax_train/1000\n",
    "y_hat = np.where(y_test_score>=threshold_train,1,0)\n",
    "print(\"F1_Score {0:4f} at threshold {1:4f}\\n\".format(f1_score(y_test, y_hat), threshold_train))\n",
    "\n",
    "print(\"Predicted ExoPlanet samples\", np.where(y_test_score>=threshold_train)[0])\n",
    "print(\"Actual ExoPlanet Samples\", np.where(y_test==1)[0])\n",
    "print(y_test_score[0])\n"
   ]
  },
  {
   "cell_type": "code",
   "execution_count": 16,
   "metadata": {},
   "outputs": [
    {
     "name": "stdout",
     "output_type": "stream",
     "text": [
      "Accuracy: 0.9947368421052631\n",
      "F1 score: 0.5714285714285715\n",
      "Recall: 0.4\n",
      "Precision: 1.0\n",
      "Cohens Kappa : 0.5692695214105794\n",
      "ROC AUC Score: 0.7\n",
      "\n",
      " clasification report:\n",
      "               precision    recall  f1-score   support\n",
      "\n",
      "           0       0.99      1.00      1.00       565\n",
      "           1       1.00      0.40      0.57         5\n",
      "\n",
      "    accuracy                           0.99       570\n",
      "   macro avg       1.00      0.70      0.78       570\n",
      "weighted avg       0.99      0.99      0.99       570\n",
      "\n",
      "\n",
      " confussion matrix:\n",
      " [[565   0]\n",
      " [  3   2]]\n"
     ]
    }
   ],
   "source": [
    "#Using threshold as 0.9\n",
    "from sklearn.metrics import precision_score, recall_score, confusion_matrix, classification_report\n",
    "from sklearn.metrics import accuracy_score, f1_score, cohen_kappa_score, roc_auc_score, roc_curve\n",
    "y_hat = gru_model.predict(X_test)[:,0]\n",
    "y_pred = np.where(y_hat > threshold_train,1.,0.)\n",
    "\n",
    "#y_pred = gru_model.predict_classes(X_test)\n",
    "\n",
    "\n",
    "# accuracy: (tp + tn) / (p + n)\n",
    "print('Accuracy:', accuracy_score(y_test, y_pred))\n",
    "# f1: 2 tp / (2 tp + fp + fn)\n",
    "print('F1 score:', f1_score(y_test, y_pred))\n",
    "# recall: tp / (tp + fn)\n",
    "print('Recall:', recall_score(y_test, y_pred))\n",
    "# precision tp / (tp + fp)\n",
    "print('Precision:', precision_score(y_test, y_pred))\n",
    "#cohen's kappa\n",
    "print('Cohens Kappa :', cohen_kappa_score(y_test, y_pred))\n",
    "#AUC score\n",
    "print('ROC AUC Score:', roc_auc_score(y_test, y_pred))\n",
    "#Classification report\n",
    "print('\\n clasification report:\\n', classification_report(y_test,y_pred))\n",
    "#Confusion matrix\n",
    "print('\\n confussion matrix:\\n',confusion_matrix(y_test, y_pred))"
   ]
  },
  {
   "cell_type": "code",
   "execution_count": 17,
   "metadata": {},
   "outputs": [
    {
     "name": "stdout",
     "output_type": "stream",
     "text": [
      "Accuracy: 0.9966581482209553\n",
      "F1 score: 0.8131868131868133\n",
      "Recall: 1.0\n",
      "Precision: 0.6851851851851852\n",
      "Cohens Kappa : 0.811560159591738\n",
      "ROC AUC Score: 0.9983168316831683\n",
      "\n",
      " clasification report:\n",
      "               precision    recall  f1-score   support\n",
      "\n",
      "           0       1.00      1.00      1.00      5050\n",
      "           1       0.69      1.00      0.81        37\n",
      "\n",
      "    accuracy                           1.00      5087\n",
      "   macro avg       0.84      1.00      0.91      5087\n",
      "weighted avg       1.00      1.00      1.00      5087\n",
      "\n",
      "\n",
      " confussion matrix:\n",
      " [[5033   17]\n",
      " [   0   37]]\n"
     ]
    }
   ],
   "source": [
    "#y_train_pred = model_two.predict_classes(x_train)[:,0]\n",
    "y_train_hat = gru_model.predict(X_train)[:,0]\n",
    "y_train_pred = np.where(y_train_hat > threshold_train,1.,0.)\n",
    "print('Accuracy:', accuracy_score(y_train, y_train_pred))\n",
    "print('F1 score:', f1_score(y_train, y_train_pred))\n",
    "print('Recall:', recall_score(y_train, y_train_pred))\n",
    "print('Precision:', precision_score(y_train, y_train_pred))\n",
    "print('Cohens Kappa :', cohen_kappa_score(y_train, y_train_pred))\n",
    "print('ROC AUC Score:', roc_auc_score(y_train, y_train_pred))\n",
    "print('\\n clasification report:\\n', classification_report(y_train, y_train_pred))\n",
    "print('\\n confussion matrix:\\n',confusion_matrix(y_train, y_train_pred))"
   ]
  },
  {
   "cell_type": "code",
   "execution_count": null,
   "metadata": {},
   "outputs": [],
   "source": []
  }
 ],
 "metadata": {
  "kernelspec": {
   "display_name": "Python 3",
   "language": "python",
   "name": "python3"
  },
  "language_info": {
   "codemirror_mode": {
    "name": "ipython",
    "version": 3
   },
   "file_extension": ".py",
   "mimetype": "text/x-python",
   "name": "python",
   "nbconvert_exporter": "python",
   "pygments_lexer": "ipython3",
   "version": "3.6.8"
  }
 },
 "nbformat": 4,
 "nbformat_minor": 1
}
